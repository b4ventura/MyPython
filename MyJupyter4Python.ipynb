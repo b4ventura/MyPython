{
 "cells": [
  {
   "cell_type": "markdown",
   "metadata": {},
   "source": [
    "# Use this Jupyter notebook to check your Python"
   ]
  },
  {
   "cell_type": "code",
   "execution_count": 18,
   "metadata": {},
   "outputs": [
    {
     "name": "stdout",
     "output_type": "stream",
     "text": [
      "Enter a number: 6\n",
      "6 is 6.0 Float\n"
     ]
    }
   ],
   "source": [
    "x = int(input(\"Enter a number: \"))\n",
    "y = float(x)\n",
    "print (str(x) + \" is \" + str(y) + \" Float\")\n",
    "       "
   ]
  },
  {
   "cell_type": "code",
   "execution_count": 5,
   "metadata": {},
   "outputs": [],
   "source": [
    "#Operators Assignment\n",
    "#To answer questions, you might need to learn if-else statements first.\n",
    "#1. Check whether A = 100 is greater than 50 and less than 150 if it is then print the value of A otherwise print .\n",
    "#2. If B = 60, check whether B is divisible by both 5 or 6 and print an appropriate statement to indicate the result.\n"
   ]
  },
  {
   "cell_type": "code",
   "execution_count": 12,
   "metadata": {},
   "outputs": [
    {
     "name": "stdout",
     "output_type": "stream",
     "text": [
      "Sorry the value is out of range\n"
     ]
    },
    {
     "data": {
      "text/plain": [
       "True"
      ]
     },
     "execution_count": 12,
     "metadata": {},
     "output_type": "execute_result"
    }
   ],
   "source": [
    "A=155\n",
    "\n",
    "if A > 50 and A < 150:\n",
    "    print (A)\n",
    "else :\n",
    "    print (\"Sorry the value is out of range\")\n",
    "\n",
    "    \n",
    "x=60\n",
    "x % 5 == 0 and x % 6 == 0"
   ]
  },
  {
   "cell_type": "code",
   "execution_count": null,
   "metadata": {},
   "outputs": [],
   "source": [
    "#Loops Writing Assignment\n",
    "#1. Assume x = -11. Use if-elif-else clause to check if x is less than -20, x is -20, or x > -20.\n",
    "If brange = range(2, 16)\n",
    "Loop through brange and find all the numbers that are divisible by 3 and print them.\n",
    "Loop through brange and find only the first multiple of 3 and print it.\n",
    "For x = 97, write a while-loop and increment x and print x. Then exit the loop when x =101.\n",
    "Write a for-loop that loops through range(5) and doesn’t do anything."
   ]
  },
  {
   "cell_type": "code",
   "execution_count": null,
   "metadata": {},
   "outputs": [],
   "source": []
  },
  {
   "cell_type": "code",
   "execution_count": null,
   "metadata": {},
   "outputs": [],
   "source": []
  }
 ],
 "metadata": {
  "kernelspec": {
   "display_name": "Python 3",
   "language": "python",
   "name": "python3"
  },
  "language_info": {
   "codemirror_mode": {
    "name": "ipython",
    "version": 3
   },
   "file_extension": ".py",
   "mimetype": "text/x-python",
   "name": "python",
   "nbconvert_exporter": "python",
   "pygments_lexer": "ipython3",
   "version": "3.7.0"
  }
 },
 "nbformat": 4,
 "nbformat_minor": 2
}

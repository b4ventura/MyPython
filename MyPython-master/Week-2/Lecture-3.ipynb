{
 "cells": [
  {
   "cell_type": "markdown",
   "metadata": {},
   "source": [
    "## Lecture 3\n",
    "- Program Structure\n",
    "- Conditional Execution\n",
    "  - **if** statement\n",
    "- pass\n",
    "- Repetition\n",
    "  - Naive way\n",
    "  - **While** Statement\n",
    "  - **For** Statement\n",
    "- Recap"
   ]
  },
  {
   "cell_type": "markdown",
   "metadata": {},
   "source": [
    "## Program Structure\n",
    "-  A program consists of a sequence of statements\n",
    "-  A statement is of type:\n",
    "   -  Mathematical computation\n",
    "   -  Conditional Execution\n",
    "      - **if** statement\n",
    "   -  Repetitive execution of statements\n",
    "      - **while** or **for** loop\n",
    "![Program Structure](images/Lecture-3.002.png)"
   ]
  },
  {
   "cell_type": "markdown",
   "metadata": {},
   "source": [
    "-  A program consists of bunch of statements, functions, class definitions\n",
    "   - Later we will look into functions\n",
    "     - Functions are a name given to a sequence of statements\n",
    "     - Classes are used to create your **own data types**\n",
    "![Program Structure-2](images/Lecture-3.003.png)"
   ]
  },
  {
   "cell_type": "markdown",
   "metadata": {},
   "source": [
    "## Conditional Execution\n",
    "-  ## If Statement\n",
    "   -  There are few variations of the **if** statement\n",
    "   -  Indentation of statements mark a block\n",
    "      - no \"{\" or \"}\" being used to mark the begin and end of a block of statements"
   ]
  },
  {
   "cell_type": "markdown",
   "metadata": {},
   "source": [
    "- Execute one statement when a condition is met\n",
    "![If Statement](images/Lecture-3.004.png)\n",
    "\n",
    "- Execute multiple statements when a condition is met\n",
    "![If Statement](images/Lecture-3.005.png)"
   ]
  },
  {
   "cell_type": "markdown",
   "metadata": {},
   "source": [
    "- **if** statement syntax\n",
    "  - **if** keyword\n",
    "  - condition\n",
    "  - **:**\n",
    "  - indent block of statement(s)\n",
    "  - indented block can contain **if** statement\n",
    "  \n",
    "```\n",
    "if expression:\n",
    "       one or more indented statements\n",
    "```"
   ]
  },
  {
   "cell_type": "markdown",
   "metadata": {},
   "source": [
    "           \n",
    "![If Else Statement](images/Lecture-3.006.png)"
   ]
  },
  {
   "cell_type": "markdown",
   "metadata": {},
   "source": [
    "- Syntax of **if** statement with **else** clause\n",
    "  - Both the if and else blocks are indented and can have one or more statements\n",
    "  \n",
    "```\n",
    "if expression:\n",
    "       one or more indented statements\n",
    "else:\n",
    "       one or more indented statements\n",
    "```  "
   ]
  },
  {
   "cell_type": "markdown",
   "metadata": {},
   "source": [
    "           \n",
    "![If Elif Statement](images/Lecture-3.007.png)\n",
    " "
   ]
  },
  {
   "cell_type": "markdown",
   "metadata": {},
   "source": [
    "- Syntax of **if** with one or more **elif** clauses\n",
    "  - Other languages has switch/case statements\n",
    "  - Python does not have switch/case\n",
    "\n",
    "```\n",
    "if expression-1:\n",
    "   one or more indented statements\n",
    "elif expression-2:\n",
    "   one or more indented statements           \n",
    "elif expression-3:\n",
    "   one or more indented statements\n",
    "```"
   ]
  },
  {
   "cell_type": "markdown",
   "metadata": {},
   "source": [
    "           \n",
    "![If Elif Else Statement](images/Lecture-3.008.png)"
   ]
  },
  {
   "cell_type": "markdown",
   "metadata": {},
   "source": [
    "- Syntax of **if elif** with **else** clause\n",
    "\n",
    "```\n",
    "if expression-1:\n",
    "    one or more indented statements\n",
    "elif expression-2:\n",
    "    one or more indented statements           \n",
    "else:\n",
    "    one or more indented statements\n",
    "```"
   ]
  },
  {
   "cell_type": "markdown",
   "metadata": {},
   "source": [
    "## If Statement Grammar\n",
    "\n",
    "```if_stmt ::=  \"if\" expression \":\" suite\n",
    "             ( \"elif\" expression \":\" suite )*\n",
    "             [\"else\" \":\" suite]\n",
    "```\n",
    "\n",
    "Suite can be one statement or many statements"
   ]
  },
  {
   "cell_type": "code",
   "execution_count": null,
   "metadata": {
    "collapsed": true
   },
   "outputs": [],
   "source": [
    "weather='snowing'\n",
    "if weather == 'snowing':  # here weather string is compared for equality with \"snowing\"\n",
    "    print (\"ski\")"
   ]
  },
  {
   "cell_type": "code",
   "execution_count": null,
   "metadata": {
    "collapsed": true
   },
   "outputs": [],
   "source": [
    "weather='snowing'\n",
    "\n",
    "# weather string is compared for equality with string \"snowing\"\n",
    "# single statement can be on the same line following :\n",
    "\n",
    "if weather == 'snowing':  print (\"ski\")"
   ]
  },
  {
   "cell_type": "code",
   "execution_count": null,
   "metadata": {
    "collapsed": true
   },
   "outputs": [],
   "source": [
    "weather='snowing'\n",
    "\n",
    "# note ; and another statement on the same line\n",
    "\n",
    "if weather == 'snowing':  print (\"ski\") ; print (\"more ski\")"
   ]
  },
  {
   "cell_type": "code",
   "execution_count": null,
   "metadata": {
    "collapsed": true
   },
   "outputs": [],
   "source": [
    "# If block contains multiple statements\n",
    "weather='sunny'\n",
    "if weather == 'sunny':\n",
    "    print (\"swim\")\n",
    "    print (\"camp\")"
   ]
  },
  {
   "cell_type": "code",
   "execution_count": null,
   "metadata": {
    "collapsed": true
   },
   "outputs": [],
   "source": [
    "# else clause\n",
    "weather='rainy'\n",
    "\n",
    "if weather == 'sunny':\n",
    "    print (\"swim\")\n",
    "    print (\"camp\")\n",
    "else:\n",
    "    print (\"sleep\")"
   ]
  },
  {
   "cell_type": "code",
   "execution_count": null,
   "metadata": {
    "collapsed": true
   },
   "outputs": [],
   "source": [
    "# single statement can be on the same line following else:\n",
    "\n",
    "weather='rainy'\n",
    "if weather == 'sunny':\n",
    "    print (\"swim\")\n",
    "    print (\"camp\")\n",
    "else: print (\"sleep\")"
   ]
  },
  {
   "cell_type": "code",
   "execution_count": null,
   "metadata": {
    "collapsed": true
   },
   "outputs": [],
   "source": [
    "weather='sunny'\n",
    "if weather == 'sunny':\n",
    "    print (\"swim\")\n",
    "    print (\"camp\")\n",
    "elif weather == 'snowing':\n",
    "    print (\"ski\")"
   ]
  },
  {
   "cell_type": "code",
   "execution_count": null,
   "metadata": {
    "collapsed": true
   },
   "outputs": [],
   "source": [
    "weather='rainy'\n",
    "if weather == 'sunny':\n",
    "    print (\"swim\")\n",
    "    print (\"camp\")\n",
    "elif weather == 'snowing':\n",
    "    print (\"ski\")\n",
    "else:\n",
    "    print (\"sleep\")"
   ]
  },
  {
   "cell_type": "code",
   "execution_count": null,
   "metadata": {
    "collapsed": true
   },
   "outputs": [],
   "source": [
    "weather='raining'\n",
    "if weather == 'sunny':\n",
    "    print (\"swim\")\n",
    "    print (\"camp\")\n",
    "elif weather == 'snowing':\n",
    "    print (\"ski\")\n",
    "elif weather == 'raining':\n",
    "    print (\"enjoy the liquid sun shine\")    \n",
    "else:\n",
    "    print (\"sleep\")"
   ]
  },
  {
   "cell_type": "markdown",
   "metadata": {},
   "source": [
    "## Null Statement\n",
    "- pass\n",
    "  - reserved keyword\n",
    "  - null operation\n",
    "  - when it is executed, nothing happens\n",
    "  - placeholder when a statement is required syntactically, but no code needs to be executed\n",
    "  - later we will see how we use to define empty functions and classes\n"
   ]
  },
  {
   "cell_type": "code",
   "execution_count": null,
   "metadata": {
    "collapsed": true
   },
   "outputs": [],
   "source": [
    "weather = 'raining'\n",
    "\n",
    "# Do nothing if it is raining\n",
    "# Basically the author considered the raining case and is doing nothing about it\n",
    "# later some code could be added here\n",
    "# a way to document in code\n",
    "\n",
    "if weather == 'raining':\n",
    "    pass"
   ]
  },
  {
   "cell_type": "code",
   "execution_count": null,
   "metadata": {
    "collapsed": true
   },
   "outputs": [],
   "source": [
    "def foo():   # defining a stub function foo\n",
    "    pass\n",
    "\n",
    "class bar:   # defining a stub class foo\n",
    "    pass\n",
    "\n",
    "weather='sunny'\n",
    "if weather == 'windy':\n",
    "    pass\n",
    "elif weather == 'cloudy':\n",
    "    pass\n",
    "else:\n",
    "    pass\n",
    "\n",
    "count = 1\n",
    "while count < 10:\n",
    "    pass           # defining stub while loop\n",
    "    count = count + 1"
   ]
  },
  {
   "cell_type": "markdown",
   "metadata": {},
   "source": [
    "## Range Function\n",
    "- Produces an immutable sequence of numbers\n",
    "  - Useful when you want to loop or iterate \n",
    "  - Used in for loops\n",
    "- range(stop)\n",
    "  - 0,1, ... stop-1\n",
    "- range(start, stop)\n",
    "  - start, start+1 ... stop-3, stop-2, stop-1\n",
    "- range(start, stop, step)\n",
    "  - step can be +ve or -ve"
   ]
  },
  {
   "cell_type": "code",
   "execution_count": null,
   "metadata": {
    "collapsed": true
   },
   "outputs": [],
   "source": [
    "range(5) # produces numbers from 0, 1, 2, 3, 4"
   ]
  },
  {
   "cell_type": "code",
   "execution_count": null,
   "metadata": {
    "collapsed": true
   },
   "outputs": [],
   "source": [
    "range(2) # produces numbers from 0, 1"
   ]
  },
  {
   "cell_type": "code",
   "execution_count": null,
   "metadata": {
    "collapsed": true
   },
   "outputs": [],
   "source": [
    "range(1) # produces numbers from 0"
   ]
  },
  {
   "cell_type": "code",
   "execution_count": 5,
   "metadata": {},
   "outputs": [
    {
     "data": {
      "text/plain": [
       "range(0, 0)"
      ]
     },
     "execution_count": 5,
     "metadata": {},
     "output_type": "execute_result"
    }
   ],
   "source": [
    "range(0) # produces numbers nothing"
   ]
  },
  {
   "cell_type": "code",
   "execution_count": null,
   "metadata": {
    "collapsed": true
   },
   "outputs": [],
   "source": [
    "range(3,5) # produces numbers 3,4"
   ]
  },
  {
   "cell_type": "code",
   "execution_count": null,
   "metadata": {
    "collapsed": true
   },
   "outputs": [],
   "source": [
    "range(1,10,2) # produces 1, 3, 5, 7, 9"
   ]
  },
  {
   "cell_type": "code",
   "execution_count": null,
   "metadata": {
    "collapsed": true
   },
   "outputs": [],
   "source": [
    "range(10,0,-1) # produces 10,9,8,7,6,5,4,3,2,1"
   ]
  },
  {
   "cell_type": "markdown",
   "metadata": {},
   "source": [
    "## Repetition\n",
    "- ### Naive way\n",
    "   -  We know how to print() the string \"Hello World\"\n",
    "   -  Let us say we need to output the string \"Hello World!\" 5 times"
   ]
  },
  {
   "cell_type": "code",
   "execution_count": null,
   "metadata": {
    "collapsed": true
   },
   "outputs": [],
   "source": [
    "print(\"HellO World!\")  # typo.  Need to fix 5 times.  Some could get missed\n",
    "print(\"HellO World!\")\n",
    "print(\"HellO World!\")\n",
    "print(\"HellO World!\")\n",
    "print(\"HellO World!\")"
   ]
  },
  {
   "cell_type": "markdown",
   "metadata": {},
   "source": [
    "- ### While Statement\n",
    "  - While loop is an elegant solution for cases where a block of code needs to be executed  **n** number of times or as long as a condition or expression evaluates to True\n",
    "  - Indentation of statements mark a block\n",
    "    - Block contains 1 or more statements\n",
    "  - no \"{\" or \"}\" being used to mark the begin and end of a block of statements\n",
    "  - Block of code may use **continue** or **break**\n",
    "  \n",
    "  - if while expression or condition evaluates to True, the while block will be executed sequentially\n",
    "  - if while expression or condition evaluates to False, the statements following the while block will be executed"
   ]
  },
  {
   "cell_type": "markdown",
   "metadata": {},
   "source": [
    "![While Statement](images/Lecture-3.009.png)\n",
    "\n",
    "```\n",
    "while expression:\n",
    "    one or more indented statements\n",
    "```"
   ]
  },
  {
   "cell_type": "markdown",
   "metadata": {},
   "source": [
    "- **continue** statement in while block \n",
    "  - Usually continue statement will be inside an if statement\n",
    "  - continue statement causes the program control to check the while expression or condition\n",
    "    - Statements following the continue statement will not be executed\n",
    "\n",
    "    \n",
    "![While Continue Statement](images/Lecture-3.010.png)\n",
    "\n",
    "```\n",
    "while expression:\n",
    "    one or more indented statements\n",
    "    if expression:\n",
    "        continue\n",
    "    one or more indented statements\n",
    "```"
   ]
  },
  {
   "cell_type": "markdown",
   "metadata": {},
   "source": [
    "- **break** statement in while block \n",
    "  - Usually **break** statement will be inside an if statement\n",
    "  - Program control jumps or breaks out of the while block\n",
    "  - Statements following the while block will  be executed\n",
    "    \n",
    "![While break Statement](images/Lecture-3.011.png)\n",
    "\n",
    "```\n",
    "while expression:\n",
    "    one or more indented statements\n",
    "    if expression:\n",
    "        break\n",
    "    one or more indented statements\n",
    "```"
   ]
  },
  {
   "cell_type": "markdown",
   "metadata": {},
   "source": [
    "- **else** statement after while block \n",
    "  - The statements in the else block will get executed when the while expression or condition evaluates to False\n",
    "\n",
    "![While Else Statement](images/Lecture-3.012.png)\n",
    "\n",
    "```\n",
    "while expression:\n",
    "    one or more indented statements\n",
    "else:\n",
    "    one or more indented statements\n",
    "```"
   ]
  },
  {
   "cell_type": "markdown",
   "metadata": {},
   "source": [
    "   - When a while loop breaks out due to a break statement the else code block will **NOT** be executed\n",
    "\n",
    "![While Break Statement](images/Lecture-3.013.png)"
   ]
  },
  {
   "cell_type": "markdown",
   "metadata": {},
   "source": [
    "## While Statement Grammar\n",
    "```\n",
    "while_stmt ::=  \"while\" expression \":\" suite\n",
    "                [\"else\" \":\" suite]\n",
    "```\n"
   ]
  },
  {
   "cell_type": "markdown",
   "metadata": {},
   "source": [
    "## Print \"Hello World!\" 5 times"
   ]
  },
  {
   "cell_type": "code",
   "execution_count": null,
   "metadata": {
    "collapsed": true,
    "scrolled": true
   },
   "outputs": [],
   "source": [
    "i=1\n",
    "\n",
    "while i <= 5:  # repeat code below 5 times\n",
    "    print (i, \"Hello World!\")\n",
    "    i=i+1"
   ]
  },
  {
   "cell_type": "markdown",
   "metadata": {},
   "source": [
    "## Count Down from 3 and While with Else Clause"
   ]
  },
  {
   "cell_type": "code",
   "execution_count": null,
   "metadata": {
    "collapsed": true
   },
   "outputs": [],
   "source": [
    "i=3\n",
    "\n",
    "while i > 0:\n",
    "    print (i)\n",
    "    i=i-1  # could also use  i -=1\n",
    "else:\n",
    "    print (\"Else block executed when while expression is False\", i)"
   ]
  },
  {
   "cell_type": "markdown",
   "metadata": {},
   "source": [
    "## While Expression evals to False, Else Clause Executed"
   ]
  },
  {
   "cell_type": "code",
   "execution_count": null,
   "metadata": {
    "collapsed": true,
    "scrolled": true
   },
   "outputs": [],
   "source": [
    "i=-1\n",
    "\n",
    "while i > 0:  # -1 is not greater than 0, hence while expression is Flase\n",
    "    print (i)\n",
    "    i=i-1\n",
    "else:\n",
    "    print (\"Else block executed when while expression is False\", i)"
   ]
  },
  {
   "cell_type": "code",
   "execution_count": null,
   "metadata": {
    "collapsed": true
   },
   "outputs": [],
   "source": [
    "while False:\n",
    "    print(\"False\")\n",
    "else:\n",
    "    print(\"While False\")"
   ]
  },
  {
   "cell_type": "markdown",
   "metadata": {},
   "source": [
    "## Print Even Numbers  < 10, using Continue"
   ]
  },
  {
   "cell_type": "code",
   "execution_count": null,
   "metadata": {
    "collapsed": true
   },
   "outputs": [],
   "source": [
    "i=10\n",
    "\n",
    "while i > 0:\n",
    "    i=i-1\n",
    "    if not i % 2:\n",
    "        print (\"Even: \",i)\n",
    "        continue\n",
    "else:\n",
    "    print (\"Else block executed when while expression is False\", i)"
   ]
  },
  {
   "cell_type": "markdown",
   "metadata": {},
   "source": [
    "## Break from While Loop When i == 3"
   ]
  },
  {
   "cell_type": "code",
   "execution_count": null,
   "metadata": {
    "collapsed": true
   },
   "outputs": [],
   "source": [
    "i=1\n",
    "\n",
    "while i < 4:\n",
    "    if  i == 3:\n",
    "        print (\"Break ...\",i)\n",
    "        break\n",
    "    else:\n",
    "        print (\"i: \",i)\n",
    "    i=i+1\n",
    "else:\n",
    "    print (\"Else block NOT executed when break within while\", i)"
   ]
  },
  {
   "cell_type": "markdown",
   "metadata": {},
   "source": [
    "## While True\n",
    "-  Sometimes there is need to keep looping forever"
   ]
  },
  {
   "cell_type": "code",
   "execution_count": null,
   "metadata": {
    "collapsed": true
   },
   "outputs": [],
   "source": [
    "while True:\n",
    "    userInput = input(\"Enter q to quit: \")\n",
    "    if  userInput == 'q':\n",
    "        break\n",
    "    else:\n",
    "        print (\"User entered:\", userInput)\n",
    "print (\"User entered q to quit\")"
   ]
  },
  {
   "cell_type": "markdown",
   "metadata": {},
   "source": [
    "- ### For Statement\n",
    "    - Iterate over the elements of a sequence (such as a string, tuple or list) or other iterable object"
   ]
  },
  {
   "cell_type": "markdown",
   "metadata": {},
   "source": [
    "## For Statement Grammar\n",
    "```\n",
    "for_stmt ::=  \"for\" target_list \"in\" expression_list \":\" suite\n",
    "              [\"else\" \":\" suite]\n",
    "```"
   ]
  },
  {
   "cell_type": "markdown",
   "metadata": {},
   "source": [
    "![For Loop](images/Lecture-3.014.png)"
   ]
  },
  {
   "cell_type": "markdown",
   "metadata": {},
   "source": [
    "![For Loop](images/Lecture-3.015.png)"
   ]
  },
  {
   "cell_type": "markdown",
   "metadata": {},
   "source": [
    "![For Loop](images/Lecture-3.016.png)"
   ]
  },
  {
   "cell_type": "markdown",
   "metadata": {},
   "source": [
    "![For Loop](images/Lecture-3.017.png)"
   ]
  },
  {
   "cell_type": "markdown",
   "metadata": {},
   "source": [
    "## Print 0,1,2 using Range(3)"
   ]
  },
  {
   "cell_type": "code",
   "execution_count": null,
   "metadata": {
    "collapsed": true
   },
   "outputs": [],
   "source": [
    "for i in range(3):  # Looping a block 3 times\n",
    "    print(i)        # can have one ore more statements"
   ]
  },
  {
   "cell_type": "markdown",
   "metadata": {},
   "source": [
    "## For with Else Clause"
   ]
  },
  {
   "cell_type": "code",
   "execution_count": null,
   "metadata": {
    "collapsed": true
   },
   "outputs": [],
   "source": [
    "for i in range(3):  # Looping a block 3 times \n",
    "    print(i)\n",
    "else:               # one or more statements\n",
    "    print(\"For Else Block\") # \"For Else\" will be printed"
   ]
  },
  {
   "cell_type": "markdown",
   "metadata": {},
   "source": [
    "## For with Break when i == 2"
   ]
  },
  {
   "cell_type": "code",
   "execution_count": null,
   "metadata": {
    "collapsed": true
   },
   "outputs": [],
   "source": [
    "for i in range(4):\n",
    "    print(i)\n",
    "    if i==2:\n",
    "        print(\"Break when i ==\",i) # Breaking out of for loop\n",
    "        break"
   ]
  },
  {
   "cell_type": "markdown",
   "metadata": {},
   "source": [
    "## Break when i == 2,  Not Execute Else Clause"
   ]
  },
  {
   "cell_type": "code",
   "execution_count": null,
   "metadata": {
    "collapsed": true
   },
   "outputs": [],
   "source": [
    "for i in range(4):\n",
    "    print(i)\n",
    "    if i==2:\n",
    "        print(\"Break when i ==\", i) # Breaking out of for loop\n",
    "        break\n",
    "else:\n",
    "    print(\"Will not execute For Else Block\") # For else will NOT be printed"
   ]
  },
  {
   "cell_type": "markdown",
   "metadata": {},
   "source": [
    "## Print  Even numbers < 6, Skip Odd numbers using Continue"
   ]
  },
  {
   "cell_type": "code",
   "execution_count": null,
   "metadata": {
    "collapsed": true
   },
   "outputs": [],
   "source": [
    "for i in range(6):\n",
    "    if i % 2:  # skip odd numbers\n",
    "        continue\n",
    "    print(i)   # print even numbers"
   ]
  },
  {
   "cell_type": "markdown",
   "metadata": {},
   "source": [
    "## Print  Even numbers < 6, Skip Odd numbers using Continue"
   ]
  },
  {
   "cell_type": "code",
   "execution_count": null,
   "metadata": {
    "collapsed": true
   },
   "outputs": [],
   "source": [
    "for i in range(6):\n",
    "    if i % 2:  # skip odd numbers\n",
    "        continue\n",
    "    print(i)   # print even numbers\n",
    "else:\n",
    "    print(\"For Else\")"
   ]
  },
  {
   "cell_type": "markdown",
   "metadata": {},
   "source": [
    "## Continue and Break in For Loop With Else Clause"
   ]
  },
  {
   "cell_type": "code",
   "execution_count": null,
   "metadata": {
    "collapsed": true
   },
   "outputs": [],
   "source": [
    "for i in range(6):\n",
    "    if i == 5:   # For Else will NOT be printed\n",
    "        print(\"Break ...\", \"i =\", i)\n",
    "        break\n",
    "    elif i % 2:  # skip odd numbers\n",
    "        print(\"Skipping:\", \"i =\", i)\n",
    "        continue\n",
    "    print(\"i = \", i)   # print even numbers\n",
    "else:\n",
    "    print(\"Will not execute For Else Block\")"
   ]
  },
  {
   "cell_type": "markdown",
   "metadata": {},
   "source": [
    "## Iterating Over a String"
   ]
  },
  {
   "cell_type": "code",
   "execution_count": null,
   "metadata": {
    "collapsed": true
   },
   "outputs": [],
   "source": [
    "s = \"hello world\"\n",
    "for i in s:\n",
    "    print(i)  # printing on different lines"
   ]
  },
  {
   "cell_type": "markdown",
   "metadata": {},
   "source": [
    "## Iterating Over a String, Printing on Single Line"
   ]
  },
  {
   "cell_type": "code",
   "execution_count": null,
   "metadata": {
    "collapsed": true
   },
   "outputs": [],
   "source": [
    "s = \"hello world\"\n",
    "for i in s:\n",
    "    print(i, end='')  # printing on the same line"
   ]
  },
  {
   "cell_type": "markdown",
   "metadata": {},
   "source": [
    "## Calculating String Length"
   ]
  },
  {
   "cell_type": "code",
   "execution_count": null,
   "metadata": {
    "collapsed": true
   },
   "outputs": [],
   "source": [
    "# determine the length of the string\n",
    "s = \"hello world\"\n",
    "count=0\n",
    "for i in s:\n",
    "    count = count + 1\n",
    "print(\"String Length:\", count)"
   ]
  },
  {
   "cell_type": "markdown",
   "metadata": {},
   "source": [
    "## Len Function\n",
    "- Computes the length of a sequence such as a string"
   ]
  },
  {
   "cell_type": "code",
   "execution_count": null,
   "metadata": {
    "collapsed": true
   },
   "outputs": [],
   "source": [
    "help(len)"
   ]
  },
  {
   "cell_type": "code",
   "execution_count": null,
   "metadata": {
    "collapsed": true
   },
   "outputs": [],
   "source": [
    "print(\"String Length:\", len(\"Hello World\"))"
   ]
  },
  {
   "cell_type": "markdown",
   "metadata": {},
   "source": [
    "## Enumerate Function\n",
    "- When iterating through a sequence such as a string, you would also like to obtain the serial number of the items in the sequence"
   ]
  },
  {
   "cell_type": "code",
   "execution_count": null,
   "metadata": {
    "collapsed": true
   },
   "outputs": [],
   "source": [
    "s = \"hello world\"\n",
    "for index, value in enumerate(s):\n",
    "    print(\"Index:\", index, \" Value:\", value)"
   ]
  },
  {
   "cell_type": "code",
   "execution_count": null,
   "metadata": {
    "collapsed": true
   },
   "outputs": [],
   "source": [
    "# find the index of Upper Case Characters in String s\n",
    "s = \"HelLo WorlD\"\n",
    "for index, value in enumerate(s):\n",
    "    if value >= 'A' and value <= 'Z':\n",
    "        print(\"Index:\", index, \" Value:\", value)"
   ]
  },
  {
   "cell_type": "markdown",
   "metadata": {},
   "source": [
    "## String Format Method, Left Justified, 2 Spaces Wide"
   ]
  },
  {
   "cell_type": "code",
   "execution_count": null,
   "metadata": {
    "collapsed": true
   },
   "outputs": [],
   "source": [
    "s = \"HelLo WorlD\"\n",
    "for index, value in enumerate(s):\n",
    "    if value >= 'A' and value <= 'Z':\n",
    "        print(\"Index: {:<2} Value: {:<2}\".format(index, value))"
   ]
  },
  {
   "cell_type": "markdown",
   "metadata": {},
   "source": [
    "## When to use While vs For?\n",
    "\n",
    "### for\n",
    "- iterating over a sequence or container\n",
    "  - list, tuples, strings, dictionaries, set, etc\n",
    "  \n",
    "### while\n",
    "- looping as long as while condition is True"
   ]
  },
  {
   "cell_type": "code",
   "execution_count": 15,
   "metadata": {},
   "outputs": [
    {
     "name": "stdout",
     "output_type": "stream",
     "text": [
      "0 1 2 3 4 5 6 7 8 9 10 "
     ]
    }
   ],
   "source": [
    "for i in range(11):\n",
    "    print(i, end=' ')"
   ]
  },
  {
   "cell_type": "code",
   "execution_count": 17,
   "metadata": {
    "scrolled": true
   },
   "outputs": [
    {
     "name": "stdout",
     "output_type": "stream",
     "text": [
      "0 1 2 3 4 5 6 7 8 9 10 "
     ]
    }
   ],
   "source": [
    "i = 0\n",
    "while i < 11:\n",
    "    print (i, end=' ')\n",
    "    i = i + 1"
   ]
  },
  {
   "cell_type": "markdown",
   "metadata": {},
   "source": [
    "## Recap\n",
    "-  We looked into general structure of any program\n",
    "   - programs have input and output\n",
    "   - math computation, conditional and repeated execution\n",
    "- if, else and elif statements\n",
    "- pass statement, which is a null statement\n",
    "- while loop, break and continue\n",
    "- while loop with else block\n",
    "- while True loop\n",
    "- For loop, break and continue\n",
    "- For loop with else block\n",
    "- range, len and enumerate functions"
   ]
  },
  {
   "cell_type": "markdown",
   "metadata": {
    "collapsed": true
   },
   "source": [
    "## Assignments\n",
    "- Operators Assignment\n",
    "- Loops Writing Assignment"
   ]
  },
  {
   "cell_type": "markdown",
   "metadata": {
    "collapsed": true
   },
   "source": [
    "## Quiz\n",
    "- Quiz 3"
   ]
  }
 ],
 "metadata": {
  "kernelspec": {
   "display_name": "Python 3",
   "language": "python",
   "name": "python3"
  },
  "language_info": {
   "codemirror_mode": {
    "name": "ipython",
    "version": 3
   },
   "file_extension": ".py",
   "mimetype": "text/x-python",
   "name": "python",
   "nbconvert_exporter": "python",
   "pygments_lexer": "ipython3",
   "version": "3.5.2"
  }
 },
 "nbformat": 4,
 "nbformat_minor": 2
}

{
 "cells": [
  {
   "cell_type": "markdown",
   "metadata": {},
   "source": [
    "# Functions Assignment"
   ]
  },
  {
   "cell_type": "markdown",
   "metadata": {},
   "source": [
    "#### 1. If list1 = [21, 24, 27, 32, 36, 40].  Define a function called list_3and4 that would take a list and output another list with elements that are divisible by both 3 and 4. "
   ]
  },
  {
   "cell_type": "code",
   "execution_count": null,
   "metadata": {},
   "outputs": [],
   "source": [
    "def list_3and4(seq): \n",
    "    '''\n",
    "     take a list and output another list with elements that are divisible by both 3 and 4\n",
    "    '''\n",
    "    \n",
    "    print(\"In list_3and4(), Input: {}\".format( seq))    # print seq\n",
    "    \n",
    "    result = []                        # initialize a new list\n",
    "    \n",
    "    for item in seq:                   # iterate thru seq\n",
    "        ## add your code here ##\n",
    "        if -- and -- :                 # divisible by both 3 ad 4\n",
    "            result.append(item)        # append when divisible\n",
    "    \n",
    "    print(\"In list_3and4(), Result: {}\".format( result))\n",
    "    return ---                        # return newly created list\n",
    "\n",
    "# test code\n",
    "x = list_3and4(range(1,145,12))        # range is a sequence\n",
    "print(x == [])\n",
    "x = list_3and4(range(0,145,12))        # range is a sequence\n",
    "print(x == [0, 12, 24, 36, 48, 60, 72, 84, 96, 108, 120, 132, 144])"
   ]
  },
  {
   "cell_type": "code",
   "execution_count": null,
   "metadata": {},
   "outputs": [],
   "source": [
    "list1 = [21, 24, 27, 32, 36, 40]\n",
    "x = list_3and4(list1)\n",
    "print(x == [24, 36])"
   ]
  },
  {
   "cell_type": "markdown",
   "metadata": {},
   "source": [
    "#### 2. Define a function, write_vowels that takes a word and returns a list with vowels from the word. Call the function and pass totality."
   ]
  },
  {
   "cell_type": "code",
   "execution_count": null,
   "metadata": {},
   "outputs": [],
   "source": [
    "def write_vowels(word):\n",
    "    '''\n",
    "    takes a word and returns a list with vowels from the word\n",
    "    '''\n",
    "\n",
    "    print(\"In write_vowels(), Input: {}\".format(word)) \n",
    "    vowels = []                   # create empty list to hold result\n",
    "    for i in word:\n",
    "        ## add your code here ##\n",
    "        if --- in --- :\n",
    "            vowels.append(i)      # append character if a vowel\n",
    "    print(\"In write_vowels(), Input: {}, Result: {}\".format( word, vowels))\n",
    "    return ---"
   ]
  },
  {
   "cell_type": "code",
   "execution_count": null,
   "metadata": {},
   "outputs": [],
   "source": [
    "# test code\n",
    "v = write_vowels(\"aeiou\")\n",
    "v = write_vowels(\"AEIOU\")\n",
    "v = write_vowels(\"san francisco\")"
   ]
  },
  {
   "cell_type": "code",
   "execution_count": null,
   "metadata": {},
   "outputs": [],
   "source": [
    "x = []\n",
    "len(x)"
   ]
  },
  {
   "cell_type": "code",
   "execution_count": null,
   "metadata": {},
   "outputs": [],
   "source": [
    "# test code\n",
    "def test_code(v,s):\n",
    "    if not v:\n",
    "        print(\"Test Failed\")\n",
    "        return  False\n",
    "    for i in v:\n",
    "        if i not in s:\n",
    "            print(\"Test Failed\")\n",
    "            return False\n",
    "    print(\"Test Passed\")\n",
    "    return True"
   ]
  },
  {
   "cell_type": "code",
   "execution_count": null,
   "metadata": {},
   "outputs": [],
   "source": [
    "v = write_vowels(\"zzzzz\")\n",
    "False == test_code(v,\"zzzzz\")  # this test must fail"
   ]
  },
  {
   "cell_type": "code",
   "execution_count": null,
   "metadata": {},
   "outputs": [],
   "source": [
    "v = write_vowels(\"aeiou\")\n",
    "True == test_code(v,\"aeiou\")"
   ]
  },
  {
   "cell_type": "code",
   "execution_count": null,
   "metadata": {},
   "outputs": [],
   "source": [
    "v = write_vowels(\"AEIOU\")\n",
    "True == test_code(v,\"AEIOU\")"
   ]
  },
  {
   "cell_type": "code",
   "execution_count": null,
   "metadata": {},
   "outputs": [],
   "source": [
    "v = write_vowels(\"san francisco\")\n",
    "True == test_code(v, \"san francisco\")"
   ]
  }
 ],
 "metadata": {
  "kernelspec": {
   "display_name": "Python 3",
   "language": "python",
   "name": "python3"
  },
  "language_info": {
   "codemirror_mode": {
    "name": "ipython",
    "version": 3
   },
   "file_extension": ".py",
   "mimetype": "text/x-python",
   "name": "python",
   "nbconvert_exporter": "python",
   "pygments_lexer": "ipython3",
   "version": "3.6.5"
  }
 },
 "nbformat": 4,
 "nbformat_minor": 2
}

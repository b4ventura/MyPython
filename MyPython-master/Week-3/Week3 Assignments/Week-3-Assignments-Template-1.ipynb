{
 "cells": [
  {
   "cell_type": "markdown",
   "metadata": {},
   "source": [
    "# Functions Writing Assignment"
   ]
  },
  {
   "cell_type": "markdown",
   "metadata": {},
   "source": [
    "#### 1. Define a function raised_function that takes two values v1 and v2 and computes v1 raised to v2 and returns the value.  Make a call to the function and supply 4 and 7. "
   ]
  },
  {
   "cell_type": "code",
   "execution_count": null,
   "metadata": {},
   "outputs": [],
   "source": [
    "def raised_function(v1, v2):\n",
    "    '''\n",
    "    Takes two values v1 and v2 and computes v1 raised to v2 and returns the value\n",
    "    '''\n",
    "    print(\"In raised_function(): v1: {}, v2: {}\".format(v1,v2))\n",
    "    \n",
    "    ## add your code here ##\n",
    "    result = --\n",
    "    print(\"In raised_function(): v1: {}, v2: {} result: {}\".format(v1,v2, result))\n",
    "    \n",
    "    return  result            # computes v1 raised to v2 and returns the value\n",
    "\n",
    "# test code\n",
    "print(raised_function.__doc__)\n",
    "ret = raised_function(4,0)"
   ]
  },
  {
   "cell_type": "code",
   "execution_count": null,
   "metadata": {},
   "outputs": [],
   "source": [
    "ret = raised_function(4, 7)\n",
    "print(\"raised_function({},{}), returns: {}\".format(4,7, ret))"
   ]
  },
  {
   "cell_type": "code",
   "execution_count": null,
   "metadata": {},
   "outputs": [],
   "source": [
    "# test code\n",
    "ret == 4 ** 7    # True means function worked"
   ]
  },
  {
   "cell_type": "markdown",
   "metadata": {},
   "source": [
    "#### 2. Define a function string_loop that takes a string and loops through it and prints only vowels. Make a call to the function and pass “compute”. "
   ]
  },
  {
   "cell_type": "code",
   "execution_count": null,
   "metadata": {},
   "outputs": [],
   "source": [
    "def string_loop(strIn):\n",
    "    '''\n",
    "    takes a string and loops through it and prints only vowels\n",
    "    '''\n",
    "    print(\"In string_loop(): strIn: {}\".format(strIn))\n",
    "    \n",
    "    ## add your code here ##\n",
    "    # using for loop iterate the string and \n",
    "    # look if character in string is a vowel \"aeiouAEIOU\"\n",
    "    for --- in --- :\n",
    "        if  --- in --- :\n",
    "            print(---, end=' ')\n",
    "    print()\n",
    "    \n",
    "\n",
    "# test code\n",
    "\n",
    "print(string_loop.__doc__)\n",
    "string_loop(\"aeiou\")\n",
    "string_loop(\"AEIOU\")\n",
    "string_loop(\"123456\")\n",
    "string_loop(\"spam and eggs\")\n",
    "string_loop(\"\")"
   ]
  },
  {
   "cell_type": "code",
   "execution_count": null,
   "metadata": {},
   "outputs": [],
   "source": [
    "string_loop(\"compute\")"
   ]
  },
  {
   "cell_type": "markdown",
   "metadata": {},
   "source": [
    "#### 3. Define a function string_len that takes a default value s1=“apples” and prints the length of the string. Call the function and don’t pass any arguments. Then call the function again and pass “watermelon”."
   ]
  },
  {
   "cell_type": "code",
   "execution_count": null,
   "metadata": {},
   "outputs": [],
   "source": [
    "def string_len(s1=\"apples\"):\n",
    "    '''\n",
    "    takes a default value s1=“apples” and prints the length of the string\n",
    "    '''\n",
    "    print(\"In string_len(): s1: {}\".format(s1))\n",
    "    ## add your code here ##\n",
    "    \n",
    "    result = ---           #  find the length of s1     \n",
    "    print(\"String: {:30s}  Length: {}\".format(s1, result))\n",
    "    \n",
    "    return ---\n",
    "\n",
    "# test code\n",
    "x = string_len('1')\n",
    "x = string_len('12')\n",
    "x = string_len('')"
   ]
  },
  {
   "cell_type": "code",
   "execution_count": null,
   "metadata": {},
   "outputs": [],
   "source": [
    "# test code\n",
    "len('apples') == string_len()"
   ]
  },
  {
   "cell_type": "code",
   "execution_count": null,
   "metadata": {},
   "outputs": [],
   "source": [
    "# test code\n",
    "len(\"watermelon\") == string_len(\"watermelon\")"
   ]
  },
  {
   "cell_type": "code",
   "execution_count": null,
   "metadata": {},
   "outputs": [],
   "source": [
    "string_len()\n",
    "string_len(\"watermelon\")"
   ]
  },
  {
   "cell_type": "markdown",
   "metadata": {},
   "source": [
    "#### 4. Define a function mult_two that takes default arguments a = 10, b=11. The function should check if a is a multiple of b. In the function call, supply b = 7 and a = 21 in that order. "
   ]
  },
  {
   "cell_type": "code",
   "execution_count": null,
   "metadata": {},
   "outputs": [],
   "source": [
    "def mult_two(a=10, b=11):\n",
    "    '''\n",
    "    Takes default arguments a = 10, b=11. The function should check if a is a multiple of b\n",
    "    returns True or False depending on being a multiple or not\n",
    "    '''\n",
    "    \n",
    "    ## add your code here ##\n",
    "    result = True\n",
    "    if --- :\n",
    "        print(\"{} is a multiple of {}, return {}\".format(a,b, result))\n",
    "    else:\n",
    "        result = ---\n",
    "        print(\"{} is NOT a multiple of {}, return {}\".format(a,b, result))\n",
    "        \n",
    "    return ---  # returns True or False\n",
    "        \n",
    "# test code\n",
    "False == mult_two()       # uses default argument for a and b"
   ]
  },
  {
   "cell_type": "code",
   "execution_count": null,
   "metadata": {},
   "outputs": [],
   "source": [
    "True == mult_two(10,5)"
   ]
  },
  {
   "cell_type": "code",
   "execution_count": null,
   "metadata": {},
   "outputs": [],
   "source": [
    "True == mult_two( a = 21, b = 7)"
   ]
  },
  {
   "cell_type": "code",
   "execution_count": null,
   "metadata": {
    "scrolled": true
   },
   "outputs": [],
   "source": [
    "True == mult_two(b=7, a = 21)"
   ]
  },
  {
   "cell_type": "code",
   "execution_count": null,
   "metadata": {},
   "outputs": [],
   "source": []
  }
 ],
 "metadata": {
  "kernelspec": {
   "display_name": "Python 3",
   "language": "python",
   "name": "python3"
  },
  "language_info": {
   "codemirror_mode": {
    "name": "ipython",
    "version": 3
   },
   "file_extension": ".py",
   "mimetype": "text/x-python",
   "name": "python",
   "nbconvert_exporter": "python",
   "pygments_lexer": "ipython3",
   "version": "3.6.5"
  }
 },
 "nbformat": 4,
 "nbformat_minor": 2
}

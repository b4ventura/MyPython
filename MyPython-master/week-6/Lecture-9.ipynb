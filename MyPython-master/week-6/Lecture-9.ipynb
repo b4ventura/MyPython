{
 "cells": [
  {
   "cell_type": "markdown",
   "metadata": {
    "collapsed": true
   },
   "source": [
    "# Lecture 9\n",
    "- File I/O\n",
    "- With\n",
    "- Optional\n",
    "  - List Comprehension\n",
    "  - Dict Comprehension\n",
    "  - Set Comprehension\n",
    "  - Generators\n",
    "  - One Liners\n",
    "  - doctest\n",
    "  - logging"
   ]
  },
  {
   "cell_type": "markdown",
   "metadata": {},
   "source": [
    "## File I/O\n",
    "\n",
    "- Programs read and write data most of the time\n",
    "- Some programs run continuously while some are short lived\n",
    "- In either case when the **program exits** the **data** stored internally in its memory is **lost**\n",
    "  - To prevent data loss, data is saved in **persistent store** as **files** or  **databases**\n",
    "- Examples of persistent store:\n",
    "  - Hard Disk, SSD\n",
    "  - Tapes, Optical Disks\n",
    "  - Cloud"
   ]
  },
  {
   "cell_type": "markdown",
   "metadata": {},
   "source": [
    "## File\n",
    "- Sequence of characters stored in a **persistent** medium (**survives power recycle**)\n",
    "- Different types of files based on the type of content stored\n",
    "  - **text** files\n",
    "    - human readable\n",
    "    - json, xml files\n",
    "    - plain text file (.py, .txt)\n",
    "  - **binary** files\n",
    "    - contains data as 0 and 1 (non printable)\n",
    "    - photos, spreadsheets, word doc, power point presentation, x-rays (.jpeg, .xls, .doc, .ppt, .dcm)\n",
    "    - music and video files  (.mp3, .mp4)"
   ]
  },
  {
   "cell_type": "markdown",
   "metadata": {},
   "source": [
    "## File Attributes\n",
    "- Name\n",
    "- Size\n",
    "- Permissions\n",
    "- Type\n",
    "- File Pointer \n",
    "  - Using which you can do something to the fhile\n",
    "  - Position in File\n",
    "  - Standard Files are:\n",
    "    - stdin, stdout and stderr\n"
   ]
  },
  {
   "cell_type": "code",
   "execution_count": null,
   "metadata": {},
   "outputs": [],
   "source": [
    "?print"
   ]
  },
  {
   "cell_type": "code",
   "execution_count": 3,
   "metadata": {},
   "outputs": [
    {
     "ename": "NameError",
     "evalue": "name 'sys' is not defined",
     "output_type": "error",
     "traceback": [
      "\u001b[0;31m---------------------------------------------------------------------------\u001b[0m",
      "\u001b[0;31mNameError\u001b[0m                                 Traceback (most recent call last)",
      "\u001b[0;32m<ipython-input-3-695c2aa02df8>\u001b[0m in \u001b[0;36m<module>\u001b[0;34m()\u001b[0m\n\u001b[0;32m----> 1\u001b[0;31m \u001b[0mprint\u001b[0m \u001b[0;34m(\u001b[0m\u001b[0;34m\"hello\"\u001b[0m\u001b[0;34m,\u001b[0m \u001b[0mfile\u001b[0m\u001b[0;34m=\u001b[0m\u001b[0msys\u001b[0m\u001b[0;34m.\u001b[0m\u001b[0msdterr\u001b[0m\u001b[0;34m)\u001b[0m\u001b[0;34m\u001b[0m\u001b[0m\n\u001b[0m",
      "\u001b[0;31mNameError\u001b[0m: name 'sys' is not defined"
     ]
    }
   ],
   "source": [
    "print (\"hello\", file=sys.sdterr)"
   ]
  },
  {
   "cell_type": "markdown",
   "metadata": {},
   "source": [
    "## File Operations\n",
    "- open\n",
    "- read, write, append\n",
    "- close\n",
    "![file operations](images/Lecture-9.002.png)"
   ]
  },
  {
   "cell_type": "markdown",
   "metadata": {},
   "source": [
    "## File Open\n",
    "- **File Name**  and **Mode**\n",
    "   - python **string**\n",
    "- **Mode**\n",
    "  - **Read**\n",
    "  - **Write**\n",
    "  - **Append**\n",
    "- Default mode is **'rt'**, **read** and **text**\n",
    "- **'b'** for **binary**\n",
    "- fobj = open('filename', mode) # where mode is 'r', 'w', 'a', '+', 'b' (read, write, append)"
   ]
  },
  {
   "cell_type": "code",
   "execution_count": 5,
   "metadata": {
    "collapsed": true
   },
   "outputs": [
    {
     "name": "stdout",
     "output_type": "stream",
     "text": [
      "Help on built-in function open in module io:\n",
      "\n",
      "open(file, mode='r', buffering=-1, encoding=None, errors=None, newline=None, closefd=True, opener=None)\n",
      "    Open file and return a stream.  Raise OSError upon failure.\n",
      "    \n",
      "    file is either a text or byte string giving the name (and the path\n",
      "    if the file isn't in the current working directory) of the file to\n",
      "    be opened or an integer file descriptor of the file to be\n",
      "    wrapped. (If a file descriptor is given, it is closed when the\n",
      "    returned I/O object is closed, unless closefd is set to False.)\n",
      "    \n",
      "    mode is an optional string that specifies the mode in which the file\n",
      "    is opened. It defaults to 'r' which means open for reading in text\n",
      "    mode.  Other common values are 'w' for writing (truncating the file if\n",
      "    it already exists), 'x' for creating and writing to a new file, and\n",
      "    'a' for appending (which on some Unix systems, means that all writes\n",
      "    append to the end of the file regardless of the current seek position).\n",
      "    In text mode, if encoding is not specified the encoding used is platform\n",
      "    dependent: locale.getpreferredencoding(False) is called to get the\n",
      "    current locale encoding. (For reading and writing raw bytes use binary\n",
      "    mode and leave encoding unspecified.) The available modes are:\n",
      "    \n",
      "    ========= ===============================================================\n",
      "    Character Meaning\n",
      "    --------- ---------------------------------------------------------------\n",
      "    'r'       open for reading (default)\n",
      "    'w'       open for writing, truncating the file first\n",
      "    'x'       create a new file and open it for writing\n",
      "    'a'       open for writing, appending to the end of the file if it exists\n",
      "    'b'       binary mode\n",
      "    't'       text mode (default)\n",
      "    '+'       open a disk file for updating (reading and writing)\n",
      "    'U'       universal newline mode (deprecated)\n",
      "    ========= ===============================================================\n",
      "    \n",
      "    The default mode is 'rt' (open for reading text). For binary random\n",
      "    access, the mode 'w+b' opens and truncates the file to 0 bytes, while\n",
      "    'r+b' opens the file without truncation. The 'x' mode implies 'w' and\n",
      "    raises an `FileExistsError` if the file already exists.\n",
      "    \n",
      "    Python distinguishes between files opened in binary and text modes,\n",
      "    even when the underlying operating system doesn't. Files opened in\n",
      "    binary mode (appending 'b' to the mode argument) return contents as\n",
      "    bytes objects without any decoding. In text mode (the default, or when\n",
      "    't' is appended to the mode argument), the contents of the file are\n",
      "    returned as strings, the bytes having been first decoded using a\n",
      "    platform-dependent encoding or using the specified encoding if given.\n",
      "    \n",
      "    'U' mode is deprecated and will raise an exception in future versions\n",
      "    of Python.  It has no effect in Python 3.  Use newline to control\n",
      "    universal newlines mode.\n",
      "    \n",
      "    buffering is an optional integer used to set the buffering policy.\n",
      "    Pass 0 to switch buffering off (only allowed in binary mode), 1 to select\n",
      "    line buffering (only usable in text mode), and an integer > 1 to indicate\n",
      "    the size of a fixed-size chunk buffer.  When no buffering argument is\n",
      "    given, the default buffering policy works as follows:\n",
      "    \n",
      "    * Binary files are buffered in fixed-size chunks; the size of the buffer\n",
      "      is chosen using a heuristic trying to determine the underlying device's\n",
      "      \"block size\" and falling back on `io.DEFAULT_BUFFER_SIZE`.\n",
      "      On many systems, the buffer will typically be 4096 or 8192 bytes long.\n",
      "    \n",
      "    * \"Interactive\" text files (files for which isatty() returns True)\n",
      "      use line buffering.  Other text files use the policy described above\n",
      "      for binary files.\n",
      "    \n",
      "    encoding is the name of the encoding used to decode or encode the\n",
      "    file. This should only be used in text mode. The default encoding is\n",
      "    platform dependent, but any encoding supported by Python can be\n",
      "    passed.  See the codecs module for the list of supported encodings.\n",
      "    \n",
      "    errors is an optional string that specifies how encoding errors are to\n",
      "    be handled---this argument should not be used in binary mode. Pass\n",
      "    'strict' to raise a ValueError exception if there is an encoding error\n",
      "    (the default of None has the same effect), or pass 'ignore' to ignore\n",
      "    errors. (Note that ignoring encoding errors can lead to data loss.)\n",
      "    See the documentation for codecs.register or run 'help(codecs.Codec)'\n",
      "    for a list of the permitted encoding error strings.\n",
      "    \n",
      "    newline controls how universal newlines works (it only applies to text\n",
      "    mode). It can be None, '', '\\n', '\\r', and '\\r\\n'.  It works as\n",
      "    follows:\n",
      "    \n",
      "    * On input, if newline is None, universal newlines mode is\n",
      "      enabled. Lines in the input can end in '\\n', '\\r', or '\\r\\n', and\n",
      "      these are translated into '\\n' before being returned to the\n",
      "      caller. If it is '', universal newline mode is enabled, but line\n",
      "      endings are returned to the caller untranslated. If it has any of\n",
      "      the other legal values, input lines are only terminated by the given\n",
      "      string, and the line ending is returned to the caller untranslated.\n",
      "    \n",
      "    * On output, if newline is None, any '\\n' characters written are\n",
      "      translated to the system default line separator, os.linesep. If\n",
      "      newline is '' or '\\n', no translation takes place. If newline is any\n",
      "      of the other legal values, any '\\n' characters written are translated\n",
      "      to the given string.\n",
      "    \n",
      "    If closefd is False, the underlying file descriptor will be kept open\n",
      "    when the file is closed. This does not work when a file name is given\n",
      "    and must be True in that case.\n",
      "    \n",
      "    A custom opener can be used by passing a callable as *opener*. The\n",
      "    underlying file descriptor for the file object is then obtained by\n",
      "    calling *opener* with (*file*, *flags*). *opener* must return an open\n",
      "    file descriptor (passing os.open as *opener* results in functionality\n",
      "    similar to passing None).\n",
      "    \n",
      "    open() returns a file object whose type depends on the mode, and\n",
      "    through which the standard file operations such as reading and writing\n",
      "    are performed. When open() is used to open a file in a text mode ('w',\n",
      "    'r', 'wt', 'rt', etc.), it returns a TextIOWrapper. When used to open\n",
      "    a file in a binary mode, the returned class varies: in read binary\n",
      "    mode, it returns a BufferedReader; in write binary and append binary\n",
      "    modes, it returns a BufferedWriter, and in read/write mode, it returns\n",
      "    a BufferedRandom.\n",
      "    \n",
      "    It is also possible to use a string or bytearray as a file for both\n",
      "    reading and writing. For strings StringIO can be used like a file\n",
      "    opened in a text mode, and for bytes a BytesIO can be used like a file\n",
      "    opened in a binary mode.\n",
      "\n"
     ]
    }
   ],
   "source": [
    "help(open)"
   ]
  },
  {
   "cell_type": "markdown",
   "metadata": {},
   "source": [
    "## File Read Mode\n",
    "![file operations](images/Lecture-9.003.png)"
   ]
  },
  {
   "cell_type": "markdown",
   "metadata": {},
   "source": [
    "## Read File\n",
    "- Mode\n",
    "  - r\n",
    "  - r+\n",
    "  - rt\n",
    "  - rt+\n",
    "  - rb\n",
    "  - rb+\n",
    "- **Fails when file does not exist**\n",
    "- **file pointer points to the start of file**\n",
    "- \\+ reading and writing\n",
    "![file operations](images/Lecture-9.004.png)"
   ]
  },
  {
   "cell_type": "code",
   "execution_count": 6,
   "metadata": {
    "scrolled": false
   },
   "outputs": [
    {
     "ename": "NameError",
     "evalue": "name 'fd' is not defined",
     "output_type": "error",
     "traceback": [
      "\u001b[0;31m---------------------------------------------------------------------------\u001b[0m",
      "\u001b[0;31mNameError\u001b[0m                                 Traceback (most recent call last)",
      "\u001b[0;32m<ipython-input-6-a50e777a3b42>\u001b[0m in \u001b[0;36m<module>\u001b[0;34m()\u001b[0m\n\u001b[0;32m----> 1\u001b[0;31m \u001b[0mdir\u001b[0m\u001b[0;34m(\u001b[0m\u001b[0mfd\u001b[0m\u001b[0;34m)\u001b[0m\u001b[0;34m\u001b[0m\u001b[0m\n\u001b[0m",
      "\u001b[0;31mNameError\u001b[0m: name 'fd' is not defined"
     ]
    }
   ],
   "source": [
    "dir(fd)"
   ]
  },
  {
   "cell_type": "code",
   "execution_count": 16,
   "metadata": {},
   "outputs": [],
   "source": [
    "!(echo \"Read File Example\" > 'file.txt')       # create a text file called file.txt"
   ]
  },
  {
   "cell_type": "code",
   "execution_count": 17,
   "metadata": {},
   "outputs": [],
   "source": [
    "# !echo -n \"Read File Example\" > 'file.txt'  # try echo -n , no new line"
   ]
  },
  {
   "cell_type": "code",
   "execution_count": 18,
   "metadata": {},
   "outputs": [
    {
     "name": "stderr",
     "output_type": "stream",
     "text": [
      "UsageError: Cell magic `%%` not found.\n"
     ]
    }
   ],
   "source": [
    "%% Writefile test.txt\n",
    "First line\n",
    "Line 2\n",
    "Line3"
   ]
  },
  {
   "cell_type": "code",
   "execution_count": 19,
   "metadata": {},
   "outputs": [
    {
     "name": "stdout",
     "output_type": "stream",
     "text": [
      "cat: test.txt: No such file or directory\r\n"
     ]
    }
   ],
   "source": [
    "!cat test.txt"
   ]
  },
  {
   "cell_type": "code",
   "execution_count": 20,
   "metadata": {
    "scrolled": false
   },
   "outputs": [
    {
     "name": "stdout",
     "output_type": "stream",
     "text": [
      "Read File Example\r\n"
     ]
    }
   ],
   "source": [
    "!cat file.txt                         # display contents of file.txt"
   ]
  },
  {
   "cell_type": "markdown",
   "metadata": {},
   "source": [
    "for Line 20 - see line 16"
   ]
  },
  {
   "cell_type": "code",
   "execution_count": 22,
   "metadata": {},
   "outputs": [
    {
     "name": "stdout",
     "output_type": "stream",
     "text": [
      "['Read File Example\\n']\n"
     ]
    }
   ],
   "source": [
    "fd = open('file.txt','r')             # open text file file.txt for reading\n",
    "                                      # fd = open('file.txt') \n",
    "lines = fd.readlines()                # read all lines\n",
    "print(lines)                          # display contents of file.txt.  Note new line, \\n\n",
    "fd.close()                            # close fd"
   ]
  },
  {
   "cell_type": "markdown",
   "metadata": {},
   "source": [
    "## File Readable, Writable, Seekable?"
   ]
  },
  {
   "cell_type": "code",
   "execution_count": 23,
   "metadata": {
    "scrolled": true
   },
   "outputs": [
    {
     "ename": "ValueError",
     "evalue": "I/O operation on closed file",
     "output_type": "error",
     "traceback": [
      "\u001b[0;31m---------------------------------------------------------------------------\u001b[0m",
      "\u001b[0;31mValueError\u001b[0m                                Traceback (most recent call last)",
      "\u001b[0;32m<ipython-input-23-28e0c6c5f274>\u001b[0m in \u001b[0;36m<module>\u001b[0;34m()\u001b[0m\n\u001b[0;32m----> 1\u001b[0;31m \u001b[0mfd\u001b[0m\u001b[0;34m.\u001b[0m\u001b[0mreadable\u001b[0m\u001b[0;34m(\u001b[0m\u001b[0;34m)\u001b[0m                         \u001b[0;31m# expect error.  file is closed.\u001b[0m\u001b[0;34m\u001b[0m\u001b[0m\n\u001b[0m",
      "\u001b[0;31mValueError\u001b[0m: I/O operation on closed file"
     ]
    }
   ],
   "source": [
    "fd.readable()                         # expect error.  file is closed."
   ]
  },
  {
   "cell_type": "code",
   "execution_count": 24,
   "metadata": {},
   "outputs": [
    {
     "name": "stdout",
     "output_type": "stream",
     "text": [
      "Readable True\n",
      "Writable False\n",
      "Seekable True\n"
     ]
    }
   ],
   "source": [
    "fd = open('file.txt','r')\n",
    "print (\"Readable {}\".format(fd.readable()))\n",
    "print (\"Writable {}\".format(fd.writable()))\n",
    "print (\"Seekable {}\".format(fd.seekable()))\n",
    "fd.close()"
   ]
  },
  {
   "cell_type": "markdown",
   "metadata": {},
   "source": [
    "substitute fd with fobj = open (\"file.txt\" , \"r\")"
   ]
  },
  {
   "cell_type": "markdown",
   "metadata": {},
   "source": [
    "## Reading Multiple Lines"
   ]
  },
  {
   "cell_type": "code",
   "execution_count": 25,
   "metadata": {},
   "outputs": [],
   "source": [
    "!echo \"Line 1\\nLine 2\" > 'file.txt'   # create a text file called file.txt"
   ]
  },
  {
   "cell_type": "code",
   "execution_count": 26,
   "metadata": {
    "scrolled": false
   },
   "outputs": [
    {
     "name": "stdout",
     "output_type": "stream",
     "text": [
      "Line 1\r\n",
      "Line 2\r\n"
     ]
    }
   ],
   "source": [
    "!cat file.txt                         # display contents of file.txt"
   ]
  },
  {
   "cell_type": "markdown",
   "metadata": {},
   "source": [
    "## Reading Single Line"
   ]
  },
  {
   "cell_type": "code",
   "execution_count": 27,
   "metadata": {
    "scrolled": true
   },
   "outputs": [
    {
     "name": "stdout",
     "output_type": "stream",
     "text": [
      "Line 1\n",
      "Line 2\n"
     ]
    }
   ],
   "source": [
    "fd = open('file.txt')                 # open text file file.txt for reading (default mode 'rt')\n",
    "                                      # fd = open('file.txt') \n",
    "for line in fd.readlines():           # read all lines\n",
    "    print(line, end='')               # display contents of file.txt.  Note new line, \\n\n",
    "fd.close()                            # close fd"
   ]
  },
  {
   "cell_type": "code",
   "execution_count": 28,
   "metadata": {},
   "outputs": [
    {
     "name": "stdout",
     "output_type": "stream",
     "text": [
      "Line 1\n",
      "Line 2\n",
      "No more lines\n"
     ]
    }
   ],
   "source": [
    "fd = open('file.txt')                 # open text file file.txt for reading (default mode 'rt')\n",
    "                                      # fd = open('file.txt') \n",
    "line = fd.readline()                  # read one line\n",
    "print(line, end='')                   # display contents of file.txt.  Note new line, \\n\n",
    "\n",
    "line = fd.readline()                  # read one line\n",
    "print(line, end='')                   # display contents of file.txt.  Note new line, \\n\n",
    "\n",
    "line = fd.readline()                  # read one line\n",
    "if line:\n",
    "    print(line, end='')               # display contents of file.txt.  Note new line, \\n\n",
    "else:\n",
    "    print(\"No more lines\")\n",
    "fd.close()                            # close fd"
   ]
  },
  {
   "cell_type": "markdown",
   "metadata": {},
   "source": [
    "if line: \n",
    "    print (line, end=''          # this is how to check for empty line"
   ]
  },
  {
   "cell_type": "markdown",
   "metadata": {},
   "source": [
    "## File Write Mode\n",
    "\n",
    "![file operations](images/Lecture-9.005.png)\n",
    "\n",
    "## Write File\n",
    "- Mode\n",
    "  - w\n",
    "  - w+\n",
    "  - wt\n",
    "  - wt+\n",
    "  - wb\n",
    "  - wb+\n",
    "- If **file exists**\n",
    "  - **truncates** file  #\n",
    "  - **warning**: Incorrectly use 'w' for 'r', the file contents will be lost\n",
    "- else\n",
    "  - **creates** file\n",
    "- **file pointer** points to the **start** of file\n",
    "- contents are overwritten\n",
    "![file operations](images/Lecture-9.006.png)"
   ]
  },
  {
   "cell_type": "markdown",
   "metadata": {},
   "source": [
    "## File  Created"
   ]
  },
  {
   "cell_type": "code",
   "execution_count": 29,
   "metadata": {},
   "outputs": [
    {
     "name": "stdout",
     "output_type": "stream",
     "text": [
      "Line 1\r\n",
      "Line 2\r\n"
     ]
    }
   ],
   "source": [
    "!cat file.txt                        # windows users try: !type file.txt"
   ]
  },
  {
   "cell_type": "code",
   "execution_count": 30,
   "metadata": {},
   "outputs": [],
   "source": [
    "!rm file.txt                          # remove file.txt. windows user try !del file.txt"
   ]
  },
  {
   "cell_type": "code",
   "execution_count": 31,
   "metadata": {},
   "outputs": [],
   "source": [
    "fd = open('file.txt','w')             # open text file file.txt for writing\n",
    "fd.write(\"Write File Example\")        # write string\n",
    "fd.close()                            # close fd"
   ]
  },
  {
   "cell_type": "code",
   "execution_count": 32,
   "metadata": {
    "scrolled": false
   },
   "outputs": [
    {
     "name": "stdout",
     "output_type": "stream",
     "text": [
      "Write File Example"
     ]
    }
   ],
   "source": [
    "!cat file.txt "
   ]
  },
  {
   "cell_type": "markdown",
   "metadata": {},
   "source": [
    "## File Overwritten"
   ]
  },
  {
   "cell_type": "code",
   "execution_count": 33,
   "metadata": {},
   "outputs": [
    {
     "name": "stdout",
     "output_type": "stream",
     "text": [
      "Write File Example"
     ]
    }
   ],
   "source": [
    "!cat file.txt                         # display contents of file.txt"
   ]
  },
  {
   "cell_type": "code",
   "execution_count": 34,
   "metadata": {},
   "outputs": [],
   "source": [
    "fd = open('file.txt','w')             # open text file file.txt for writing\n",
    "fd.write(\"Example 2\")                 # write string\n",
    "fd.close()                            # close fd"
   ]
  },
  {
   "cell_type": "code",
   "execution_count": 35,
   "metadata": {},
   "outputs": [
    {
     "name": "stdout",
     "output_type": "stream",
     "text": [
      "Example 2"
     ]
    }
   ],
   "source": [
    "!cat file.txt                         # display contents of file.txt"
   ]
  },
  {
   "cell_type": "markdown",
   "metadata": {},
   "source": [
    "## File Truncated"
   ]
  },
  {
   "cell_type": "code",
   "execution_count": 36,
   "metadata": {},
   "outputs": [
    {
     "name": "stdout",
     "output_type": "stream",
     "text": [
      "Example 2"
     ]
    }
   ],
   "source": [
    "!cat file.txt                         # display contents of file.txt"
   ]
  },
  {
   "cell_type": "code",
   "execution_count": 37,
   "metadata": {},
   "outputs": [],
   "source": [
    "fd = open('file.txt','w')             # open text file file.txt for writing\n",
    "fd.close()                            # close fd"
   ]
  },
  {
   "cell_type": "code",
   "execution_count": 38,
   "metadata": {},
   "outputs": [],
   "source": [
    "!cat file.txt                         # display contents of file.txt"
   ]
  },
  {
   "cell_type": "code",
   "execution_count": null,
   "metadata": {},
   "outputs": [],
   "source": [
    "!ls -al file.txt                      # 0 sized file"
   ]
  },
  {
   "cell_type": "markdown",
   "metadata": {},
   "source": [
    "## File Append Mode\n",
    "![file operations](images/Lecture-9.007.png)\n",
    "\n",
    "## Append File\n",
    "- Mode\n",
    "  - a\n",
    "  - a+\n",
    "  - at\n",
    "  - at+\n",
    "  - ab\n",
    "  - ab+\n",
    "- File **created** if **non existent**\n",
    "- **File pointer points** to the **end**\n",
    "![file operations](images/Lecture-9.008.png)"
   ]
  },
  {
   "cell_type": "code",
   "execution_count": 39,
   "metadata": {},
   "outputs": [],
   "source": [
    "!echo \"Append File Example\" > 'file.txt'   # create a file called file.txt"
   ]
  },
  {
   "cell_type": "code",
   "execution_count": 40,
   "metadata": {
    "scrolled": false
   },
   "outputs": [
    {
     "name": "stdout",
     "output_type": "stream",
     "text": [
      "Append File Example\r\n"
     ]
    }
   ],
   "source": [
    "!cat file.txt                              # display contents of file.txt"
   ]
  },
  {
   "cell_type": "code",
   "execution_count": 41,
   "metadata": {},
   "outputs": [],
   "source": [
    "fd = open('file.txt','a')                  # open text file file.txt for appending\n",
    "fd.write(\"Append File Example 2\")          # write string\n",
    "fd.close()                                 # close fd"
   ]
  },
  {
   "cell_type": "code",
   "execution_count": 42,
   "metadata": {
    "scrolled": false
   },
   "outputs": [
    {
     "name": "stdout",
     "output_type": "stream",
     "text": [
      "Append File Example\r\n",
      "Append File Example 2"
     ]
    }
   ],
   "source": [
    "!cat file.txt                              # display contents of file.txt"
   ]
  },
  {
   "cell_type": "markdown",
   "metadata": {},
   "source": [
    "### File Mode Flow Chart\n",
    "![file operations](images/Lecture-9.009.png)"
   ]
  },
  {
   "cell_type": "markdown",
   "metadata": {},
   "source": [
    "### File Operations\n",
    "- name\n",
    "- mode\n",
    "- seek\n",
    "- tell\n",
    "- closed"
   ]
  },
  {
   "cell_type": "markdown",
   "metadata": {},
   "source": [
    "# End of old lecture 9  - switch to lecture 9a"
   ]
  },
  {
   "cell_type": "code",
   "execution_count": null,
   "metadata": {
    "collapsed": true
   },
   "outputs": [],
   "source": [
    "!echo \"File Operations Example\" > 'file.txt' #  create a file called file.txt"
   ]
  },
  {
   "cell_type": "code",
   "execution_count": null,
   "metadata": {
    "scrolled": false
   },
   "outputs": [],
   "source": [
    "!cat file.txt                         # display contents of file.txt"
   ]
  },
  {
   "cell_type": "code",
   "execution_count": null,
   "metadata": {},
   "outputs": [],
   "source": [
    "fd = open('file.txt')                 # default is read text mode 'rt'\n",
    "print(\"File Name:    \", fd.name)      # file descriptor's file name\n",
    "print(\"File Mode:    \", fd.mode)      # file descriptor's mode"
   ]
  },
  {
   "cell_type": "code",
   "execution_count": null,
   "metadata": {},
   "outputs": [],
   "source": [
    "print(\"File Pointer: \", fd.tell())    # file descriptor's position in file\n",
    "fd.seek(5,0)                          # move file descriptor's positions by 5 from start\n",
    "print(\"File Pointer: \", fd.tell())"
   ]
  },
  {
   "cell_type": "code",
   "execution_count": null,
   "metadata": {},
   "outputs": [],
   "source": [
    "print(\"File Content: \", fd.read(10))  # read 10 characters from current position (5)"
   ]
  },
  {
   "cell_type": "code",
   "execution_count": null,
   "metadata": {},
   "outputs": [],
   "source": [
    "print(\"File Closed?: \", fd.closed)    # file is still open, closed will return False\n",
    "fd.close()                            # close file\n",
    "print(\"File Closed?: \", fd.closed)    # file was closed, closed will return True"
   ]
  },
  {
   "cell_type": "markdown",
   "metadata": {},
   "source": [
    "### File Errors\n",
    "- File does not exists\n",
    "- Opening a directory\n",
    "- No write permission"
   ]
  },
  {
   "cell_type": "code",
   "execution_count": null,
   "metadata": {
    "collapsed": true
   },
   "outputs": [],
   "source": [
    "!rm file.txt                         # Will error if file does not exists"
   ]
  },
  {
   "cell_type": "code",
   "execution_count": null,
   "metadata": {},
   "outputs": [],
   "source": [
    "fd = open('file.txt')                # FileNotFoundError"
   ]
  },
  {
   "cell_type": "code",
   "execution_count": null,
   "metadata": {},
   "outputs": [],
   "source": [
    "fd = open(\"/\",'w')                   # Cant open directory IsADirectoryError   "
   ]
  },
  {
   "cell_type": "code",
   "execution_count": null,
   "metadata": {},
   "outputs": [],
   "source": [
    "fd = open(\"/etc/passwd\",'w')         # no write permission to /etc/passwd   ||"
   ]
  },
  {
   "cell_type": "markdown",
   "metadata": {},
   "source": [
    "### Leaking File Descriptor\n",
    "-  Caused by failure to close"
   ]
  },
  {
   "cell_type": "code",
   "execution_count": null,
   "metadata": {
    "collapsed": true
   },
   "outputs": [],
   "source": [
    "!echo \"Leaking File Descriptor Example\" > 'file.txt'   # lets create a file called file.txt"
   ]
  },
  {
   "cell_type": "code",
   "execution_count": null,
   "metadata": {},
   "outputs": [],
   "source": [
    "fdList = []\n",
    "for i in range(10000):    \n",
    "    fdList.append(open('file.txt'))"
   ]
  },
  {
   "cell_type": "markdown",
   "metadata": {},
   "source": [
    "###  With Statement\n",
    "- Useful when there are **pair of statements** need to be executed such as **open** and **close**\n",
    "- Where python uses **ContextGenerators** to define **\\__entry\\__** and **\\__exit\\__** functions\n",
    "  - which takes care of automatically calling **\\__exit\\__** when out of the 'with' block\n",
    "- Other examples are **socket open/close**,  **mutex lock/unlock**\n",
    "  - sockets are used to read/write data over networks\n",
    "  - mutex prevent multiple threads calling the same function or modifying the same data concurrently\n",
    "  \n",
    "![file operations](images/Lecture-9.010.png)"
   ]
  },
  {
   "cell_type": "markdown",
   "metadata": {},
   "source": [
    "## Opening File using With, No FilePtr Leak"
   ]
  },
  {
   "cell_type": "code",
   "execution_count": null,
   "metadata": {},
   "outputs": [],
   "source": [
    "fdList=[]\n",
    "for i in range(10000):\n",
    "    with open('file.txt') as fd:     # using with statement to open a file\n",
    "         fdList.append(fd)"
   ]
  },
  {
   "cell_type": "markdown",
   "metadata": {},
   "source": [
    "## Opening File using With - Variation"
   ]
  },
  {
   "cell_type": "code",
   "execution_count": null,
   "metadata": {
    "scrolled": true
   },
   "outputs": [],
   "source": [
    "f = open('file.txt')\n",
    "with f:                               # using with, alternative example\n",
    "    print(f.readlines()) \n",
    "print(\"File Closed?: \", fd.closed)    # file was closed, closed will return True"
   ]
  },
  {
   "cell_type": "markdown",
   "metadata": {},
   "source": [
    "## Check if File Exists\n",
    "### Try Except Else"
   ]
  },
  {
   "cell_type": "code",
   "execution_count": null,
   "metadata": {},
   "outputs": [],
   "source": [
    "try:\n",
    "    f = open('file.txt')              # exception thrown when file.txt does not exist\n",
    "except IOError:\n",
    "    print('File Exception')\n",
    "else:\n",
    "    with f:                           # using with, alternative example\n",
    "        print(f.readlines()) \n",
    "print(\"File Closed?: \", fd.closed)    # file was closed, closed will return True"
   ]
  },
  {
   "cell_type": "markdown",
   "metadata": {},
   "source": [
    "### Try Except Else Finally"
   ]
  },
  {
   "cell_type": "code",
   "execution_count": null,
   "metadata": {
    "scrolled": true
   },
   "outputs": [],
   "source": [
    "try:\n",
    "    f = open('file.txt')              # exception thrown when file.txt does not exist\n",
    "except IOError:\n",
    "    print('File Exception')\n",
    "else:\n",
    "    with f:                           # using with, alternative example\n",
    "        print(f.readlines()) \n",
    "finally:\n",
    "    print(\"File Closed?: \", fd.closed)    # file was closed, closed will return True"
   ]
  },
  {
   "cell_type": "code",
   "execution_count": null,
   "metadata": {},
   "outputs": [],
   "source": [
    "!rm file.txt"
   ]
  },
  {
   "cell_type": "code",
   "execution_count": null,
   "metadata": {},
   "outputs": [],
   "source": [
    "try:\n",
    "    f = open('file.txt')              # exception thrown when file.txt does not exist\n",
    "except IOError as e:\n",
    "    print('File Exception, File does not exist', e)\n",
    "else:\n",
    "    with f:                           # using with, alternative example\n",
    "        print(f.readlines()) "
   ]
  },
  {
   "cell_type": "markdown",
   "metadata": {},
   "source": [
    "# \\*\\*Optional\\*\\*"
   ]
  },
  {
   "cell_type": "markdown",
   "metadata": {},
   "source": [
    "## List Comprehension\n",
    "- Concise way to create a new list\n",
    "- Say we have a list of 10 numbers numList = [1,2,3,4,5,6,7,8,9,10]\n",
    "  - Now we want to create another list called squareList which is the square of numList's elements"
   ]
  },
  {
   "cell_type": "markdown",
   "metadata": {},
   "source": [
    "### Square List Elements\n",
    "#### [ item \\* item for item in list ]"
   ]
  },
  {
   "cell_type": "code",
   "execution_count": null,
   "metadata": {
    "scrolled": true
   },
   "outputs": [],
   "source": [
    "numList = [1,2,3,4,5,6,7,8,9,10]\n",
    "print(\"Num List:    \", numList)\n",
    "squareList = []\n",
    "for item in numList:\n",
    "    squareList.append(item*item)\n",
    "print(\"Square List: \", squareList)"
   ]
  },
  {
   "cell_type": "code",
   "execution_count": null,
   "metadata": {},
   "outputs": [],
   "source": [
    "numList = [1,2,3,4,5,6,7,8,9,10]\n",
    "squareList = [ item*item for item in numList]   # list comprehension\n",
    "print(\"Square List: \", squareList)"
   ]
  },
  {
   "cell_type": "code",
   "execution_count": null,
   "metadata": {},
   "outputs": [],
   "source": [
    "squareList = [ item*item for item in range(1,11)]   # list comprehension, using range\n",
    "print(\"Square List: \", squareList)"
   ]
  },
  {
   "cell_type": "markdown",
   "metadata": {},
   "source": [
    "### Find  Odd Elements From List"
   ]
  },
  {
   "cell_type": "code",
   "execution_count": null,
   "metadata": {},
   "outputs": [],
   "source": [
    "numList = [1,2,3,4,5,6,7,8,9,10]\n",
    "print(\"Num List  \", numList)\n",
    "oddList = []\n",
    "for item in numList:\n",
    "    if item % 2:\n",
    "        oddList.append(item)\n",
    "print(\"Odd List: \", oddList)"
   ]
  },
  {
   "cell_type": "markdown",
   "metadata": {},
   "source": [
    "#### [ item for item in list if  expression ]"
   ]
  },
  {
   "cell_type": "code",
   "execution_count": null,
   "metadata": {},
   "outputs": [],
   "source": [
    "numList = [1,2,3,4,5,6,7,8,9,10]\n",
    "oddList = [item for item in numList if item %2 ]\n",
    "print(\"Odd List: \", oddList)"
   ]
  },
  {
   "cell_type": "markdown",
   "metadata": {},
   "source": [
    "## Dict Comprehension\n",
    "-  Similar to List comprehension but to create dictionaries\n",
    "-  Used to create new dictionaries which is a transform of an existing dictionary"
   ]
  },
  {
   "cell_type": "code",
   "execution_count": null,
   "metadata": {},
   "outputs": [],
   "source": [
    "d = { x: x for x in range(1,10) }\n",
    "d"
   ]
  },
  {
   "cell_type": "code",
   "execution_count": null,
   "metadata": {},
   "outputs": [],
   "source": [
    "d = {1:1, 2:2, 3:3}\n",
    "\n",
    "newDict = { k: v*v for k,v in d.items() }  # key, values in dictionary items\n",
    "\n",
    "print(newDict)"
   ]
  },
  {
   "cell_type": "code",
   "execution_count": null,
   "metadata": {},
   "outputs": [],
   "source": [
    "# Lets pick all keys which are even\n",
    "\n",
    "d = { 1:1, 2:2, 3:3, 4:4, 5:5, 6:6,7:7, 8:8, 9:9, 10:10 }\n",
    "evenDict = { k:v for k,v in d.items() if not k%2 }\n",
    "evenDict"
   ]
  },
  {
   "cell_type": "markdown",
   "metadata": {},
   "source": [
    "## Set Comprehension\n",
    "-  Similar to List comprehension but to create a set\n",
    "-  Used to create new set which is a transform of an existing list"
   ]
  },
  {
   "cell_type": "code",
   "execution_count": null,
   "metadata": {
    "collapsed": true
   },
   "outputs": [],
   "source": [
    "dupList = [ 1, 2, 3, 4, 5, 4, 5]  # list with duplicate items"
   ]
  },
  {
   "cell_type": "code",
   "execution_count": null,
   "metadata": {
    "collapsed": true
   },
   "outputs": [],
   "source": [
    "s = { item for item in dupList}   # set with unique items"
   ]
  },
  {
   "cell_type": "code",
   "execution_count": null,
   "metadata": {
    "scrolled": false
   },
   "outputs": [],
   "source": [
    "s"
   ]
  },
  {
   "cell_type": "code",
   "execution_count": null,
   "metadata": {},
   "outputs": [],
   "source": [
    "uniqList = list(s)\n",
    "uniqList"
   ]
  },
  {
   "cell_type": "code",
   "execution_count": null,
   "metadata": {},
   "outputs": [],
   "source": [
    "dupList = [ 1, 2, 3, 4, 5, 4, 5]  # list with duplicate items\n",
    "uniqList = list(set(dupList))\n",
    "uniqList"
   ]
  },
  {
   "cell_type": "markdown",
   "metadata": {},
   "source": [
    "## Creating a Set of Odd Numbers"
   ]
  },
  {
   "cell_type": "code",
   "execution_count": null,
   "metadata": {
    "collapsed": true
   },
   "outputs": [],
   "source": [
    "oddSet = { item for item in range(1,10) if item % 2 }\n",
    "oddSet"
   ]
  },
  {
   "cell_type": "markdown",
   "metadata": {},
   "source": [
    "## Generators\n",
    "- Iterators\n",
    "- Generator expression\n",
    "- Generator function\n",
    "  - uses yield\n",
    "- [Iterators - Iterables - Generator](https://nvie.com/posts/iterators-vs-generators/)"
   ]
  },
  {
   "cell_type": "markdown",
   "metadata": {},
   "source": [
    "### Generator Expression"
   ]
  },
  {
   "cell_type": "code",
   "execution_count": null,
   "metadata": {},
   "outputs": [],
   "source": [
    "gen = ( x for x in [1,2,3,4,5])           # looks like list comprehension but usaes {}\n",
    "\n",
    "for i in gen:\n",
    "    print(i)"
   ]
  },
  {
   "cell_type": "markdown",
   "metadata": {},
   "source": [
    "### Generator Function has Yield"
   ]
  },
  {
   "cell_type": "code",
   "execution_count": null,
   "metadata": {
    "collapsed": true
   },
   "outputs": [],
   "source": [
    "def gen():\n",
    "    x = [1,2,3,4,5]\n",
    "    for i in x:\n",
    "        print(\"Before yield: \", i)\n",
    "        yield i\n",
    "        print(\"After yield: \", i)"
   ]
  },
  {
   "cell_type": "code",
   "execution_count": null,
   "metadata": {},
   "outputs": [],
   "source": [
    "for i in gen():\n",
    "    print(i)"
   ]
  },
  {
   "cell_type": "markdown",
   "metadata": {},
   "source": [
    "## One Liners\n",
    "-  Handy tools in Python\n",
    "### Simple HTTP Server\n",
    "-  python -m http.server\n",
    "### doctest\n",
    "-  python -m doctest myprogram.py\n",
    "### json.tool\n",
    "-  cat foo.json | python -m json.tool"
   ]
  },
  {
   "cell_type": "markdown",
   "metadata": {},
   "source": [
    "## DocTest\n",
    "- Simple way to test python modules\n",
    "- Include "
   ]
  },
  {
   "cell_type": "code",
   "execution_count": null,
   "metadata": {
    "collapsed": true
   },
   "outputs": [],
   "source": [
    "import doctest\n",
    "\n",
    "def Square(x):\n",
    "    '''\n",
    "    >>> Square(3)\n",
    "    9\n",
    "    >>> Square(-3)\n",
    "    9\n",
    "    '''\n",
    "    return x+x\n",
    "\n",
    "doctest.testmod()"
   ]
  },
  {
   "cell_type": "markdown",
   "metadata": {},
   "source": [
    "# Logging\n",
    "- Formatter\n",
    "- Handler\n",
    "  - Stream Handler\n",
    "  - File Handler\n",
    "- Logger"
   ]
  },
  {
   "cell_type": "markdown",
   "metadata": {},
   "source": [
    "### Import Logging and Sys"
   ]
  },
  {
   "cell_type": "code",
   "execution_count": null,
   "metadata": {
    "collapsed": true
   },
   "outputs": [],
   "source": [
    "import logging\n",
    "import sys"
   ]
  },
  {
   "cell_type": "markdown",
   "metadata": {},
   "source": [
    "### Set Logger Name and  Logging Level"
   ]
  },
  {
   "cell_type": "code",
   "execution_count": null,
   "metadata": {
    "collapsed": true
   },
   "outputs": [],
   "source": [
    "logger = logging.getLogger(name=__name__)\n",
    "logger.setLevel(logging.DEBUG)        # logger logs debug and above"
   ]
  },
  {
   "cell_type": "markdown",
   "metadata": {},
   "source": [
    "### Define Formatter"
   ]
  },
  {
   "cell_type": "code",
   "execution_count": null,
   "metadata": {
    "collapsed": true
   },
   "outputs": [],
   "source": [
    "formatter = logging.Formatter ( \n",
    "    '[%(asctime)s:%(module)s:%(lineno)s:%(levelname)s] %(message)s' \n",
    ")"
   ]
  },
  {
   "cell_type": "markdown",
   "metadata": {},
   "source": [
    "### Define Stream Handler, Log Level and Formatter"
   ]
  },
  {
   "cell_type": "code",
   "execution_count": null,
   "metadata": {
    "collapsed": true
   },
   "outputs": [],
   "source": [
    "streamhandler = logging.StreamHandler(sys.stdout)\n",
    "streamhandler.setLevel(logging.INFO)   # stdout logs warning and above\n",
    "streamhandler.setFormatter(formatter)"
   ]
  },
  {
   "cell_type": "markdown",
   "metadata": {},
   "source": [
    "### Define File Handler, Log Level and Formatter"
   ]
  },
  {
   "cell_type": "code",
   "execution_count": null,
   "metadata": {
    "collapsed": true
   },
   "outputs": [],
   "source": [
    "filehandler = logging.FileHandler('myAppLogs.log', mode='a')\n",
    "filehandler.setLevel(logging.DEBUG)      # file logs debug and above\n",
    "filehandler.setFormatter(formatter)"
   ]
  },
  {
   "cell_type": "markdown",
   "metadata": {},
   "source": [
    "### Add Handlers to Logger"
   ]
  },
  {
   "cell_type": "code",
   "execution_count": null,
   "metadata": {
    "collapsed": true
   },
   "outputs": [],
   "source": [
    "logger.addHandler(streamhandler)\n",
    "logger.addHandler(filehandler)"
   ]
  },
  {
   "cell_type": "markdown",
   "metadata": {},
   "source": [
    "### Apps calling the logger"
   ]
  },
  {
   "cell_type": "code",
   "execution_count": null,
   "metadata": {},
   "outputs": [],
   "source": [
    "logger.debug(\"Debug Log\")        # detailed logs useful for programmer and debugging\n",
    "logger.info(\"info Log\")          # informational logs\n",
    "logger.warning(\"warning Log\")    # warning on system state,  network slow, low disk or battery\n",
    "logger.error(\"Error Log\")        # apps runs with loss of functions\n",
    "logger.critical(\"Critical Log\")  # Cant run application - app crash \n"
   ]
  },
  {
   "cell_type": "code",
   "execution_count": null,
   "metadata": {},
   "outputs": [],
   "source": [
    "!cat myAppLogs.log"
   ]
  },
  {
   "cell_type": "markdown",
   "metadata": {},
   "source": [
    "### Recap\n",
    "- Files are used for data persistence\n",
    "- Files can be text or binary\n",
    "- Files need to be opened before reading or writing\n",
    "- Files need to be closed\n",
    "- Optional\n",
    "  - List, dict, set comprehension\n",
    "  - with statement\n",
    "  - Generators\n",
    "  - one liners\n",
    "  - doctest\n",
    "  - loggging"
   ]
  },
  {
   "cell_type": "markdown",
   "metadata": {},
   "source": [
    "\n",
    "## Read\n",
    "[Real Python pathlib](https://realpython.com/python-pathlib/)"
   ]
  },
  {
   "cell_type": "markdown",
   "metadata": {},
   "source": [
    "## Assignments\n",
    "- Reading and Writing Text Files Writing Assignment 1\n",
    "- Reading and Writing Text Files Assignment 2\n",
    "   "
   ]
  },
  {
   "cell_type": "markdown",
   "metadata": {
    "collapsed": true
   },
   "source": [
    "## Quiz\n",
    "- Quiz 9"
   ]
  }
 ],
 "metadata": {
  "kernelspec": {
   "display_name": "Python 3",
   "language": "python",
   "name": "python3"
  },
  "language_info": {
   "codemirror_mode": {
    "name": "ipython",
    "version": 3
   },
   "file_extension": ".py",
   "mimetype": "text/x-python",
   "name": "python",
   "nbconvert_exporter": "python",
   "pygments_lexer": "ipython3",
   "version": "3.7.0"
  }
 },
 "nbformat": 4,
 "nbformat_minor": 2
}

{
 "cells": [
  {
   "cell_type": "markdown",
   "metadata": {
    "collapsed": true
   },
   "source": [
    "# Lecture 9\n",
    "- File I/O\n",
    "- With\n",
    "- Optional\n",
    "  - List Comprehension\n",
    "  - Zip\n",
    "  - Dict Comprehension\n",
    "  - Set Comprehension\n",
    "  - Generators\n",
    "  - One Liners\n",
    "  - doctest\n",
    "  - logging"
   ]
  },
  {
   "cell_type": "markdown",
   "metadata": {},
   "source": [
    "## File I/O\n",
    "\n",
    "- Programs read and write data most of the time from files\n",
    "- Some programs run continuously while some are short lived\n",
    "- In either case when the **program exits** the **data** stored internally in its memory is **lost**\n",
    "  - To prevent data loss, data is saved in **persistent store** as **files** or  **databases**\n",
    "- Examples of persistent store:\n",
    "  - Hard Disk, SSD\n",
    "  - Tapes, Optical Disks\n",
    "  - Cloud"
   ]
  },
  {
   "cell_type": "markdown",
   "metadata": {},
   "source": [
    "## File\n",
    "- Sequence of characters stored in a **persistent** medium (**survives power recycle**)\n",
    "- Different types of files based on the type of content stored\n",
    "  - **text** files\n",
    "    - human readable\n",
    "    - json, xml files\n",
    "    - plain text file (.py, .txt)\n",
    "  - **binary** files\n",
    "    - contains data as 0 and 1 (non printable)\n",
    "    - photos, spreadsheets, word doc, power point presentation, x-rays (.jpeg, .xls, .doc, .ppt, .dcm)\n",
    "    - music and video files  (.mp3, .mp4)"
   ]
  },
  {
   "cell_type": "markdown",
   "metadata": {},
   "source": [
    "## File Attributes\n",
    "- Name\n",
    "- Size\n",
    "- Permissions\n",
    "- Type\n",
    "- File Pointer \n",
    "  - Using which you can do something to the fhile\n",
    "  - Position in File\n",
    "  - Standard File Pointers\n",
    "    - stdin, stdout and stderr\n"
   ]
  },
  {
   "cell_type": "markdown",
   "metadata": {},
   "source": [
    "## File Operations\n",
    "- open\n",
    "  - returns a file object\n",
    "  - file object is used to perform file operations such as read, write etc\n",
    "- read, write, append\n",
    "- close\n",
    "- retrieve files attributes"
   ]
  },
  {
   "cell_type": "markdown",
   "metadata": {},
   "source": [
    "![file operations](images/Lecture-9.002.png)"
   ]
  },
  {
   "cell_type": "markdown",
   "metadata": {},
   "source": [
    "## File Open\n",
    "- **File Name**  and **Mode**\n",
    "   - python **string**\n",
    "- **Mode**\n",
    "  - **Read**\n",
    "  - **Write**\n",
    "  - **Append**\n",
    "- Default mode is **'rt'**, **read** and **text**\n",
    "- **'b'** for **binary**\n",
    "- fobj = open('filename', mode) # where mode is 'r', 'w', 'a', '+', 'b' (read, write, append)"
   ]
  },
  {
   "cell_type": "code",
   "execution_count": null,
   "metadata": {
    "collapsed": true
   },
   "outputs": [],
   "source": [
    "help(open)"
   ]
  },
  {
   "cell_type": "markdown",
   "metadata": {},
   "source": [
    "## File Pointer or File Position\n",
    "- Keeps track of next read and write\n",
    "- File Pointer points to tbe beginning of file when opened for reading or writing\n",
    "- File Pointer points to end of file when appending"
   ]
  },
  {
   "cell_type": "markdown",
   "metadata": {},
   "source": [
    "## File Read Mode\n",
    "![file operations](images/Lecture-9.003.png)"
   ]
  },
  {
   "cell_type": "markdown",
   "metadata": {},
   "source": [
    "## Read File\n",
    "- Mode\n",
    "  - r\n",
    "  - r+\n",
    "  - rt\n",
    "  - rt+\n",
    "  - rb\n",
    "  - rb+\n",
    "- **Fails when file does not exist**\n",
    "- **file pointer points to the start of file**\n",
    "- \\+ reading and writing"
   ]
  },
  {
   "cell_type": "markdown",
   "metadata": {},
   "source": [
    "![file operations](images/Lecture-9.004.png)"
   ]
  },
  {
   "cell_type": "code",
   "execution_count": null,
   "metadata": {
    "collapsed": true
   },
   "outputs": [],
   "source": [
    "!(echo \"Read File Example\" > 'file.txt')       # create a text file called file.txt"
   ]
  },
  {
   "cell_type": "code",
   "execution_count": null,
   "metadata": {
    "collapsed": true
   },
   "outputs": [],
   "source": [
    "# !echo -n \"Read File Example\" > 'file.txt'  # try echo -n , no new line"
   ]
  },
  {
   "cell_type": "code",
   "execution_count": null,
   "metadata": {},
   "outputs": [],
   "source": [
    "fobj = open('file.txt')                  # open text file file.txt for reading\n",
    "lines = fobj.readlines()                 # read all lines\n",
    "print(lines)                             # display contents of file.txt.  Note new line, \\n\n",
    "fobj.close()                             # close fobj"
   ]
  },
  {
   "cell_type": "code",
   "execution_count": null,
   "metadata": {
    "scrolled": false
   },
   "outputs": [],
   "source": [
    "# windows user try:\n",
    "# !type file.txt\n",
    "!cat file.txt                         # display contents of file.txt"
   ]
  },
  {
   "cell_type": "code",
   "execution_count": null,
   "metadata": {},
   "outputs": [],
   "source": [
    "fobj = open('file.txt','r')             # open text file file.txt for reading\n",
    "lines = fobj.readlines()                # read all lines\n",
    "print(lines)                            # display contents of file.txt.  Note new line, \\n\n",
    "fobj.close()                            # close fobj"
   ]
  },
  {
   "cell_type": "code",
   "execution_count": null,
   "metadata": {},
   "outputs": [],
   "source": [
    "fobj = open('file.txt','rt')             # open text file file.txt for reading\n",
    "lines = fobj.readlines()                 # read all lines\n",
    "print(lines)                             # display contents of file.txt.  Note new line, \\n\n",
    "fobj.close()                             # close fobj"
   ]
  },
  {
   "cell_type": "markdown",
   "metadata": {},
   "source": [
    "## File Readable, Writable, Seekable?"
   ]
  },
  {
   "cell_type": "code",
   "execution_count": null,
   "metadata": {
    "scrolled": true
   },
   "outputs": [],
   "source": [
    "fobj.readable()                          # expect error.  file is closed."
   ]
  },
  {
   "cell_type": "code",
   "execution_count": null,
   "metadata": {},
   "outputs": [],
   "source": [
    "fobj = open('file.txt','r')\n",
    "print (\"Readable {}\".format(fobj.readable()))\n",
    "print (\"Writable {}\".format(fobj.writable()))\n",
    "print (\"Seekable {}\".format(fobj.seekable()))\n",
    "fobj.close()"
   ]
  },
  {
   "cell_type": "markdown",
   "metadata": {},
   "source": [
    "## Reading Multiple Lines"
   ]
  },
  {
   "cell_type": "code",
   "execution_count": null,
   "metadata": {
    "collapsed": true
   },
   "outputs": [],
   "source": [
    "!echo \"Line 1\\nLine 2\" > 'file.txt'   # create a text file called file.txt"
   ]
  },
  {
   "cell_type": "code",
   "execution_count": null,
   "metadata": {
    "scrolled": false
   },
   "outputs": [],
   "source": [
    "!cat file.txt                         # display contents of file.txt"
   ]
  },
  {
   "cell_type": "markdown",
   "metadata": {},
   "source": [
    "## fobj.readlines()"
   ]
  },
  {
   "cell_type": "code",
   "execution_count": null,
   "metadata": {
    "scrolled": true
   },
   "outputs": [],
   "source": [
    "fobj = open('file.txt')                 # open text file file.txt for reading (default mode 'rt')\n",
    "                                        # fobj = open('file.txt') \n",
    "for line in fobj.readlines():           # read all lines\n",
    "    print(line, end='')                 # display contents of file.txt.  Note new line, \\n\n",
    "fobj.close()                            # close fobj"
   ]
  },
  {
   "cell_type": "markdown",
   "metadata": {},
   "source": [
    "## Reading Single Line"
   ]
  },
  {
   "cell_type": "code",
   "execution_count": null,
   "metadata": {},
   "outputs": [],
   "source": [
    "fobj = open('file.txt')                 # open text file file.txt for reading (default mode 'rt')\n",
    "                                        # fobj = open('file.txt') \n",
    "line = fobj.readline()                  # read one line\n",
    "print(line, end='')                     # display contents of file.txt.  Note new line, \\n\n",
    "\n",
    "line = fobj.readline()                  # read one line\n",
    "print(line, end='')                     # display contents of file.txt.  Note new line, \\n\n",
    "\n",
    "line = fobj.readline()                  # read one line\n",
    "if line:\n",
    "    print(line, end='')                 # display contents of file.txt.  Note new line, \\n\n",
    "else:\n",
    "    print(\"Empty Line read.  No more lines\")\n",
    "fobj.close()                            # close fobj"
   ]
  },
  {
   "cell_type": "markdown",
   "metadata": {},
   "source": [
    "## File Write Mode\n",
    "\n",
    "![file operations](images/Lecture-9.005.png)"
   ]
  },
  {
   "cell_type": "markdown",
   "metadata": {},
   "source": [
    "## Write File\n",
    "- Mode\n",
    "  - w\n",
    "  - w+\n",
    "  - wt\n",
    "  - wt+\n",
    "  - wb\n",
    "  - wb+\n",
    "- If **file exists**\n",
    "  - **truncates** file \n",
    "  - **warning**: Incorrectly use 'w' for 'r', the file contents will be lost\n",
    "  - contents are overwritten\n",
    "- else\n",
    "  - **creates** file\n",
    "- **file pointer** points to the **start** of file\n"
   ]
  },
  {
   "cell_type": "markdown",
   "metadata": {},
   "source": [
    "![file operations](images/Lecture-9.006.png)"
   ]
  },
  {
   "cell_type": "markdown",
   "metadata": {},
   "source": [
    "## File  Created"
   ]
  },
  {
   "cell_type": "code",
   "execution_count": null,
   "metadata": {},
   "outputs": [],
   "source": [
    "!cat file.txt                        # windows users try: !type file.txt"
   ]
  },
  {
   "cell_type": "code",
   "execution_count": null,
   "metadata": {
    "collapsed": true
   },
   "outputs": [],
   "source": [
    "# windows users use: !del file.txt \n",
    "!rm file.txt                          # remove file.txt. windows user try !del file.txt"
   ]
  },
  {
   "cell_type": "code",
   "execution_count": null,
   "metadata": {
    "collapsed": true
   },
   "outputs": [],
   "source": [
    "fobj = open('file.txt','w')             # open text file file.txt for writing\n",
    "fobj.write(\"Write File Example\")        # write string\n",
    "fobj.close()                            # close fobj"
   ]
  },
  {
   "cell_type": "code",
   "execution_count": null,
   "metadata": {
    "scrolled": false
   },
   "outputs": [],
   "source": [
    "!cat file.txt "
   ]
  },
  {
   "cell_type": "markdown",
   "metadata": {},
   "source": [
    "## File Overwritten"
   ]
  },
  {
   "cell_type": "code",
   "execution_count": null,
   "metadata": {},
   "outputs": [],
   "source": [
    "!cat file.txt                         # display contents of file.txt"
   ]
  },
  {
   "cell_type": "code",
   "execution_count": null,
   "metadata": {
    "collapsed": true
   },
   "outputs": [],
   "source": [
    "fobj = open('file.txt','w')             # open text file file.txt for writing\n",
    "fobj.write(\"Example 2\")                 # write string\n",
    "fobj.close()                            # close fobj"
   ]
  },
  {
   "cell_type": "code",
   "execution_count": null,
   "metadata": {},
   "outputs": [],
   "source": [
    "!cat file.txt                           # display contents of file.txt"
   ]
  },
  {
   "cell_type": "markdown",
   "metadata": {},
   "source": [
    "## File Truncated"
   ]
  },
  {
   "cell_type": "code",
   "execution_count": null,
   "metadata": {},
   "outputs": [],
   "source": [
    "!cat file.txt                           # display contents of file.txt"
   ]
  },
  {
   "cell_type": "code",
   "execution_count": null,
   "metadata": {},
   "outputs": [],
   "source": [
    "!ls -al file.txt                        # 0 sized file"
   ]
  },
  {
   "cell_type": "code",
   "execution_count": null,
   "metadata": {
    "collapsed": true
   },
   "outputs": [],
   "source": [
    "fobj = open('file.txt','w')             # open text file file.txt for writing\n",
    "fobj.close()                            # close fobj"
   ]
  },
  {
   "cell_type": "code",
   "execution_count": null,
   "metadata": {
    "collapsed": true
   },
   "outputs": [],
   "source": [
    "!cat file.txt                         # display contents of file.txt"
   ]
  },
  {
   "cell_type": "code",
   "execution_count": null,
   "metadata": {},
   "outputs": [],
   "source": [
    "!ls -al file.txt                      # 0 sized file"
   ]
  },
  {
   "cell_type": "markdown",
   "metadata": {},
   "source": [
    "## File Append Mode\n",
    "![file operations](images/Lecture-9.007.png)"
   ]
  },
  {
   "cell_type": "markdown",
   "metadata": {},
   "source": [
    "## Append File\n",
    "- Mode\n",
    "  - a\n",
    "  - a+\n",
    "  - at\n",
    "  - at+\n",
    "  - ab\n",
    "  - ab+\n",
    "- File **created** if **non existent**\n",
    "- **File pointer points** to the **end**"
   ]
  },
  {
   "cell_type": "markdown",
   "metadata": {},
   "source": [
    "![file operations](images/Lecture-9.008.png)"
   ]
  },
  {
   "cell_type": "code",
   "execution_count": null,
   "metadata": {
    "collapsed": true
   },
   "outputs": [],
   "source": [
    "!echo \"Append File Example\" > 'file.txt'   # create a file called file.txt"
   ]
  },
  {
   "cell_type": "code",
   "execution_count": null,
   "metadata": {
    "scrolled": false
   },
   "outputs": [],
   "source": [
    "!cat file.txt                              # display contents of file.txt"
   ]
  },
  {
   "cell_type": "code",
   "execution_count": null,
   "metadata": {
    "collapsed": true
   },
   "outputs": [],
   "source": [
    "fobj = open('file.txt','a')                # open text file file.txt for appending\n",
    "fobj.write(\"Append File Example 2\")        # write string\n",
    "fobj.close()                               # close fobj"
   ]
  },
  {
   "cell_type": "code",
   "execution_count": null,
   "metadata": {
    "scrolled": false
   },
   "outputs": [],
   "source": [
    "!cat file.txt                              # display contents of file.txt"
   ]
  },
  {
   "cell_type": "markdown",
   "metadata": {},
   "source": [
    "### File Mode Flow Chart\n",
    "![file operations](images/Lecture-9.009.png)"
   ]
  },
  {
   "cell_type": "markdown",
   "metadata": {},
   "source": [
    "### File Operations\n",
    "- name\n",
    "- mode\n",
    "- seek\n",
    "- tell\n",
    "- closed"
   ]
  },
  {
   "cell_type": "code",
   "execution_count": 1,
   "metadata": {},
   "outputs": [],
   "source": [
    "!echo \"File Operations Example\" > 'file.txt' #  create a file called file.txt"
   ]
  },
  {
   "cell_type": "code",
   "execution_count": 2,
   "metadata": {
    "scrolled": false
   },
   "outputs": [
    {
     "name": "stdout",
     "output_type": "stream",
     "text": [
      "File Operations Example\r\n"
     ]
    }
   ],
   "source": [
    "!cat file.txt                         # display contents of file.txt"
   ]
  },
  {
   "cell_type": "code",
   "execution_count": 3,
   "metadata": {},
   "outputs": [
    {
     "name": "stdout",
     "output_type": "stream",
     "text": [
      "File Name:     file.txt\n",
      "File Mode:     r\n"
     ]
    }
   ],
   "source": [
    "fobj = open('file.txt')                 # default is read text mode 'rt'\n",
    "print(\"File Name:    \", fobj.name)      # file descriptor's file name\n",
    "print(\"File Mode:    \", fobj.mode)      # file descriptor's mode"
   ]
  },
  {
   "cell_type": "code",
   "execution_count": 4,
   "metadata": {},
   "outputs": [
    {
     "name": "stdout",
     "output_type": "stream",
     "text": [
      "File Pointer:  0\n",
      "File Pointer:  5\n"
     ]
    }
   ],
   "source": [
    "print(\"File Pointer: \", fobj.tell())    # file descriptor's position in file\n",
    "fobj.seek(5,0)                          # move file descriptor's positions by 5 from start\n",
    "print(\"File Pointer: \", fobj.tell())"
   ]
  },
  {
   "cell_type": "code",
   "execution_count": 6,
   "metadata": {},
   "outputs": [],
   "source": [
    "?fobj.seek"
   ]
  },
  {
   "cell_type": "code",
   "execution_count": 7,
   "metadata": {},
   "outputs": [
    {
     "name": "stdout",
     "output_type": "stream",
     "text": [
      "File Content:   Example\n",
      "\n"
     ]
    }
   ],
   "source": [
    "print(\"File Content: \", fobj.read(10))  # read 10 characters from current position (5)"
   ]
  },
  {
   "cell_type": "code",
   "execution_count": 8,
   "metadata": {},
   "outputs": [
    {
     "name": "stdout",
     "output_type": "stream",
     "text": [
      "File Closed?:  False\n",
      "File Closed?:  True\n"
     ]
    }
   ],
   "source": [
    "print(\"File Closed?: \", fobj.closed)    # file is still open, closed will return False\n",
    "fobj.close()                            # close file\n",
    "print(\"File Closed?: \", fobj.closed)    # file was closed, closed will return True"
   ]
  },
  {
   "cell_type": "markdown",
   "metadata": {},
   "source": [
    "## Reading a File Twice"
   ]
  },
  {
   "cell_type": "code",
   "execution_count": 11,
   "metadata": {},
   "outputs": [
    {
     "name": "stdout",
     "output_type": "stream",
     "text": [
      "Reading a File Twice Example\r\n"
     ]
    }
   ],
   "source": [
    "!echo \"Reading a File Twice Example\" > 'file.txt'   # create a file called file.txt\n",
    "!cat file.txt                              # display contents of file.txt"
   ]
  },
  {
   "cell_type": "code",
   "execution_count": 12,
   "metadata": {},
   "outputs": [
    {
     "name": "stdout",
     "output_type": "stream",
     "text": [
      "Reading a File Twice Example\n",
      "\n",
      "EmptyLine\n"
     ]
    }
   ],
   "source": [
    "fobj = open('file.txt')\n",
    "for line in fobj.readlines():\n",
    "    print(line)\n",
    "emptyLine = fobj.readline()\n",
    "if len(emptyLine) == 0:\n",
    "    print(\"EmptyLine\")"
   ]
  },
  {
   "cell_type": "code",
   "execution_count": 13,
   "metadata": {},
   "outputs": [
    {
     "name": "stdout",
     "output_type": "stream",
     "text": [
      "File Pos: 29, 0, 0\n"
     ]
    }
   ],
   "source": [
    "fpos1 = fobj.tell()\n",
    "fpos2 = fobj.seek(0,0)\n",
    "fpos3 = fobj.tell()\n",
    "print(\"File Pos: {}, {}, {}\".format(fpos1, fpos2, fpos3))"
   ]
  },
  {
   "cell_type": "code",
   "execution_count": 14,
   "metadata": {},
   "outputs": [
    {
     "name": "stdout",
     "output_type": "stream",
     "text": [
      "Reading a File Twice Example\n",
      "\n"
     ]
    }
   ],
   "source": [
    "for line in fobj.readlines():\n",
    "    print(line)\n",
    "fobj.close()"
   ]
  },
  {
   "cell_type": "markdown",
   "metadata": {},
   "source": [
    "### File Errors\n",
    "- File does not exists\n",
    "- Opening a directory\n",
    "- No write permission"
   ]
  },
  {
   "cell_type": "code",
   "execution_count": 17,
   "metadata": {},
   "outputs": [
    {
     "name": "stdout",
     "output_type": "stream",
     "text": [
      "rm: file.txt: No such file or directory\r\n"
     ]
    }
   ],
   "source": [
    "!rm file.txt                         # Will error if file does not exists"
   ]
  },
  {
   "cell_type": "code",
   "execution_count": 16,
   "metadata": {},
   "outputs": [
    {
     "ename": "FileNotFoundError",
     "evalue": "[Errno 2] No such file or directory: 'file.txt'",
     "output_type": "error",
     "traceback": [
      "\u001b[0;31m---------------------------------------------------------------------------\u001b[0m",
      "\u001b[0;31mFileNotFoundError\u001b[0m                         Traceback (most recent call last)",
      "\u001b[0;32m<ipython-input-16-1560b2418008>\u001b[0m in \u001b[0;36m<module>\u001b[0;34m()\u001b[0m\n\u001b[0;32m----> 1\u001b[0;31m \u001b[0mfobj\u001b[0m \u001b[0;34m=\u001b[0m \u001b[0mopen\u001b[0m\u001b[0;34m(\u001b[0m\u001b[0;34m'file.txt'\u001b[0m\u001b[0;34m)\u001b[0m                \u001b[0;31m# FileNotFoundError\u001b[0m\u001b[0;34m\u001b[0m\u001b[0m\n\u001b[0m",
      "\u001b[0;31mFileNotFoundError\u001b[0m: [Errno 2] No such file or directory: 'file.txt'"
     ]
    }
   ],
   "source": [
    "fobj = open('file.txt')                # FileNotFoundError"
   ]
  },
  {
   "cell_type": "code",
   "execution_count": 18,
   "metadata": {},
   "outputs": [
    {
     "ename": "IsADirectoryError",
     "evalue": "[Errno 21] Is a directory: '/'",
     "output_type": "error",
     "traceback": [
      "\u001b[0;31m---------------------------------------------------------------------------\u001b[0m",
      "\u001b[0;31mIsADirectoryError\u001b[0m                         Traceback (most recent call last)",
      "\u001b[0;32m<ipython-input-18-73b1a3436f2d>\u001b[0m in \u001b[0;36m<module>\u001b[0;34m()\u001b[0m\n\u001b[0;32m----> 1\u001b[0;31m \u001b[0mfobj\u001b[0m \u001b[0;34m=\u001b[0m \u001b[0mopen\u001b[0m\u001b[0;34m(\u001b[0m\u001b[0;34m\"/\"\u001b[0m\u001b[0;34m,\u001b[0m\u001b[0;34m'w'\u001b[0m\u001b[0;34m)\u001b[0m                   \u001b[0;31m# Cant open directory IsADirectoryError\u001b[0m\u001b[0;34m\u001b[0m\u001b[0m\n\u001b[0m",
      "\u001b[0;31mIsADirectoryError\u001b[0m: [Errno 21] Is a directory: '/'"
     ]
    }
   ],
   "source": [
    "fobj = open(\"/\",'w')                   # Cant open directory IsADirectoryError   "
   ]
  },
  {
   "cell_type": "code",
   "execution_count": null,
   "metadata": {},
   "outputs": [],
   "source": [
    "fobj = open(\"/etc/passwd\",'w')         # no write permission to /etc/passwd   ||"
   ]
  },
  {
   "cell_type": "markdown",
   "metadata": {},
   "source": [
    "### Leaking File Object\n",
    "-  Caused by failure to close file object which was returned from open()"
   ]
  },
  {
   "cell_type": "code",
   "execution_count": 20,
   "metadata": {},
   "outputs": [],
   "source": [
    "!echo \"Leaking File Descriptor Example\" > 'file.txt'   # lets create a file called file.txt"
   ]
  },
  {
   "cell_type": "code",
   "execution_count": null,
   "metadata": {},
   "outputs": [],
   "source": [
    "fobjList = []\n",
    "for i in range(10000):    \n",
    "    fobjList.append(open('file.txt'))"
   ]
  },
  {
   "cell_type": "markdown",
   "metadata": {},
   "source": [
    "## Reset Jupyter Kernel\n",
    "-   ### We could have exhausted all file objects"
   ]
  },
  {
   "cell_type": "markdown",
   "metadata": {},
   "source": [
    "#  With Statement\n",
    "- Useful when there are **pair of statements** need to be executed such as **open** and **close**\n",
    "- Where python uses **ContextGenerators** to define **\\__entry\\__** and **\\__exit\\__** functions\n",
    "  - which takes care of automatically calling **\\__exit\\__** when out of the 'with' block\n",
    "- Other examples are **socket open/close**,  **mutex lock/unlock**\n",
    "  - sockets are used to read/write data over networks\n",
    "  - mutex prevent multiple threads calling the same function or modifying the same data concurrently"
   ]
  },
  {
   "cell_type": "markdown",
   "metadata": {},
   "source": [
    " ![file operations](images/Lecture-9.010.png)"
   ]
  },
  {
   "cell_type": "markdown",
   "metadata": {},
   "source": [
    "## Opening File using With, No FileObject Leak"
   ]
  },
  {
   "cell_type": "code",
   "execution_count": null,
   "metadata": {},
   "outputs": [],
   "source": [
    "fObjList=[]\n",
    "for i in range(10000):\n",
    "    with open('file.txt') as fobj:     # using with statement to open a file\n",
    "         fObjList.append(fobj)"
   ]
  },
  {
   "cell_type": "markdown",
   "metadata": {},
   "source": [
    "## Opening File using With - Variation"
   ]
  },
  {
   "cell_type": "code",
   "execution_count": null,
   "metadata": {
    "scrolled": true
   },
   "outputs": [],
   "source": [
    "f = open('file.txt')\n",
    "with f:                               # using with, alternative example\n",
    "    print(f.readlines()) \n",
    "print(\"File Closed?: \", f.closed)     # file was closed, closed will return True"
   ]
  },
  {
   "cell_type": "markdown",
   "metadata": {},
   "source": [
    "## Check if File Exists\n",
    "### Try Except Else"
   ]
  },
  {
   "cell_type": "code",
   "execution_count": null,
   "metadata": {},
   "outputs": [],
   "source": [
    "try:\n",
    "    f = open('file.txt')              # exception thrown when file.txt does not exist\n",
    "except IOError:\n",
    "    print('File Exception')\n",
    "else:\n",
    "    with f:                           # using with, alternative example\n",
    "        print(f.readlines()) \n",
    "print(\"File Closed?: \", f.closed)    # file was closed, closed will return True"
   ]
  },
  {
   "cell_type": "markdown",
   "metadata": {},
   "source": [
    "### Try Except Else Finally"
   ]
  },
  {
   "cell_type": "code",
   "execution_count": null,
   "metadata": {
    "scrolled": true
   },
   "outputs": [],
   "source": [
    "try:\n",
    "    f = open('file.txt')              # exception thrown when file.txt does not exist\n",
    "except IOError:\n",
    "    print('File Exception')\n",
    "else:\n",
    "    with f:                           # using with, alternative example\n",
    "        print(f.readlines()) \n",
    "finally:\n",
    "    print(\"File Closed?: \", f.closed)    # file was closed, closed will return True"
   ]
  },
  {
   "cell_type": "code",
   "execution_count": null,
   "metadata": {
    "collapsed": true
   },
   "outputs": [],
   "source": [
    "!rm file.txt"
   ]
  },
  {
   "cell_type": "code",
   "execution_count": null,
   "metadata": {},
   "outputs": [],
   "source": [
    "try:\n",
    "    f = open('file.txt')              # exception thrown when file.txt does not exist\n",
    "except IOError as e:\n",
    "    print('File Exception, File does not exist', e)\n",
    "else:\n",
    "    with f:                           # using with, alternative example\n",
    "        print(f.readlines()) "
   ]
  },
  {
   "cell_type": "markdown",
   "metadata": {},
   "source": [
    "# \\*\\*Optional\\*\\*"
   ]
  },
  {
   "cell_type": "markdown",
   "metadata": {},
   "source": [
    "## List Comprehension\n",
    "- Concise way to create a new list\n",
    "- Say we have a list of 10 numbers numList = [1,2,3,4,5,6,7,8,9,10]\n",
    "  - Now we want to create another list called squareList which is the square of numList's elements"
   ]
  },
  {
   "cell_type": "markdown",
   "metadata": {},
   "source": [
    "### Square List Elements\n",
    "#### [ item \\* item for item in list ]"
   ]
  },
  {
   "cell_type": "code",
   "execution_count": 25,
   "metadata": {
    "scrolled": true
   },
   "outputs": [
    {
     "name": "stdout",
     "output_type": "stream",
     "text": [
      "Num List:     [1, 2, 3, 4, 5, 6, 7, 8, 9, 10]\n",
      "Square List:  [1, 4, 9, 16, 25, 36, 49, 64, 81, 100]\n"
     ]
    }
   ],
   "source": [
    "numList = [1,2,3,4,5,6,7,8,9,10]\n",
    "print(\"Num List:    \", numList)\n",
    "squareList = []\n",
    "for item in numList:\n",
    "    squareList.append(item*item)\n",
    "print(\"Square List: \", squareList)"
   ]
  },
  {
   "cell_type": "code",
   "execution_count": 26,
   "metadata": {},
   "outputs": [
    {
     "name": "stdout",
     "output_type": "stream",
     "text": [
      "Square List:  [1, 4, 9, 16, 25, 36, 49, 64, 81, 100]\n"
     ]
    }
   ],
   "source": [
    "numList = [1,2,3,4,5,6,7,8,9,10]\n",
    "squareList = [ item*item for item in numList]   # list comprehension\n",
    "print(\"Square List: \", squareList)"
   ]
  },
  {
   "cell_type": "code",
   "execution_count": 27,
   "metadata": {},
   "outputs": [
    {
     "name": "stdout",
     "output_type": "stream",
     "text": [
      "Square List:  [1, 4, 9, 16, 25, 36, 49, 64, 81, 100]\n"
     ]
    }
   ],
   "source": [
    "squareList = [ item*item for item in range(1,11)]   # list comprehension, using range\n",
    "print(\"Square List: \", squareList)"
   ]
  },
  {
   "cell_type": "markdown",
   "metadata": {},
   "source": [
    "### Find  Odd Elements From List"
   ]
  },
  {
   "cell_type": "code",
   "execution_count": 28,
   "metadata": {},
   "outputs": [
    {
     "name": "stdout",
     "output_type": "stream",
     "text": [
      "Num List   [1, 2, 3, 4, 5, 6, 7, 8, 9, 10]\n",
      "Odd List:  [1, 3, 5, 7, 9]\n"
     ]
    }
   ],
   "source": [
    "numList = [1,2,3,4,5,6,7,8,9,10]\n",
    "print(\"Num List  \", numList)\n",
    "oddList = []\n",
    "for item in numList:\n",
    "    if item % 2:\n",
    "        oddList.append(item)\n",
    "print(\"Odd List: \", oddList)"
   ]
  },
  {
   "cell_type": "markdown",
   "metadata": {},
   "source": [
    "#### [ item for item in list if  expression ]"
   ]
  },
  {
   "cell_type": "code",
   "execution_count": 29,
   "metadata": {},
   "outputs": [
    {
     "name": "stdout",
     "output_type": "stream",
     "text": [
      "Odd List:  [1, 3, 5, 7, 9]\n"
     ]
    }
   ],
   "source": [
    "numList = [1,2,3,4,5,6,7,8,9,10]\n",
    "oddList = [item for item in numList if item %2 ]\n",
    "print(\"Odd List: \", oddList)"
   ]
  },
  {
   "cell_type": "code",
   "execution_count": 30,
   "metadata": {},
   "outputs": [
    {
     "name": "stdout",
     "output_type": "stream",
     "text": [
      "Odd List:  ['odd', 'even', 'odd', 'even', 'odd', 'even', 'odd', 'even', 'odd', 'even']\n"
     ]
    }
   ],
   "source": [
    "numList = [1,2,3,4,5,6,7,8,9,10]\n",
    "oddEventList = [\"odd\" if item % 2 else \"even\" for item in numList ]\n",
    "print(\"Odd List: \", oddEventList)"
   ]
  },
  {
   "cell_type": "markdown",
   "metadata": {},
   "source": [
    "## Ternary"
   ]
  },
  {
   "cell_type": "code",
   "execution_count": 31,
   "metadata": {},
   "outputs": [
    {
     "data": {
      "text/plain": [
       "'eva'"
      ]
     },
     "execution_count": 31,
     "metadata": {},
     "output_type": "execute_result"
    }
   ],
   "source": [
    "\"eva\" if True else \"Dana\""
   ]
  },
  {
   "cell_type": "code",
   "execution_count": 32,
   "metadata": {},
   "outputs": [
    {
     "name": "stdout",
     "output_type": "stream",
     "text": [
      "Odd List:  ['odd', 'even', 'odd', 'even', 'odd', 'even', 'odd', 'even', 'odd', 'even']\n"
     ]
    }
   ],
   "source": [
    "numList = [1,2,3,4,5,6,7,8,9,10]\n",
    "oddEventList = [\"odd\" if item % 2 else \"even\" for item in numList ]\n",
    "print(\"Odd List: \", oddEventList)"
   ]
  },
  {
   "cell_type": "markdown",
   "metadata": {},
   "source": [
    "## Zip"
   ]
  },
  {
   "cell_type": "code",
   "execution_count": 33,
   "metadata": {},
   "outputs": [],
   "source": [
    "?zip"
   ]
  },
  {
   "cell_type": "code",
   "execution_count": 34,
   "metadata": {},
   "outputs": [
    {
     "data": {
      "text/plain": [
       "(1, 'odd')"
      ]
     },
     "execution_count": 34,
     "metadata": {},
     "output_type": "execute_result"
    }
   ],
   "source": [
    "zipIter = zip(numList, oddEventList)\n",
    "next(zipIter)"
   ]
  },
  {
   "cell_type": "code",
   "execution_count": 35,
   "metadata": {},
   "outputs": [
    {
     "data": {
      "text/plain": [
       "(2, 'even')"
      ]
     },
     "execution_count": 35,
     "metadata": {},
     "output_type": "execute_result"
    }
   ],
   "source": [
    "next(zipIter)"
   ]
  },
  {
   "cell_type": "code",
   "execution_count": 36,
   "metadata": {
    "scrolled": true
   },
   "outputs": [
    {
     "name": "stdout",
     "output_type": "stream",
     "text": [
      "1 odd\n",
      "2 even\n",
      "3 odd\n",
      "4 even\n",
      "5 odd\n",
      "6 even\n",
      "7 odd\n",
      "8 even\n",
      "9 odd\n",
      "10 even\n"
     ]
    }
   ],
   "source": [
    "for x, v in zip(numList, oddEventList):\n",
    "    print(x,v)"
   ]
  },
  {
   "cell_type": "code",
   "execution_count": 37,
   "metadata": {},
   "outputs": [
    {
     "data": {
      "text/plain": [
       "[(1, 'odd'),\n",
       " (2, 'even'),\n",
       " (3, 'odd'),\n",
       " (4, 'even'),\n",
       " (5, 'odd'),\n",
       " (6, 'even'),\n",
       " (7, 'odd'),\n",
       " (8, 'even'),\n",
       " (9, 'odd'),\n",
       " (10, 'even')]"
      ]
     },
     "execution_count": 37,
     "metadata": {},
     "output_type": "execute_result"
    }
   ],
   "source": [
    "[ (x,y) for x, y in zip(numList, oddEventList) ]"
   ]
  },
  {
   "cell_type": "markdown",
   "metadata": {},
   "source": [
    "## Dict Comprehension\n",
    "-  Similar to List comprehension but to create dictionaries\n",
    "-  Used to create new dictionaries which is a transform of an existing dictionary"
   ]
  },
  {
   "cell_type": "code",
   "execution_count": null,
   "metadata": {},
   "outputs": [],
   "source": [
    "d = { x: x for x in range(1,10) }\n",
    "d"
   ]
  },
  {
   "cell_type": "code",
   "execution_count": 38,
   "metadata": {},
   "outputs": [
    {
     "name": "stdout",
     "output_type": "stream",
     "text": [
      "{1: 1, 2: 4, 3: 9}\n"
     ]
    }
   ],
   "source": [
    "d = {1:1, 2:2, 3:3}\n",
    "\n",
    "newDict = { k: v*v for k,v in d.items() }  # key, values in dictionary items\n",
    "\n",
    "print(newDict)"
   ]
  },
  {
   "cell_type": "code",
   "execution_count": 39,
   "metadata": {},
   "outputs": [
    {
     "data": {
      "text/plain": [
       "{2: 2, 4: 4, 6: 6, 8: 8, 10: 10}"
      ]
     },
     "execution_count": 39,
     "metadata": {},
     "output_type": "execute_result"
    }
   ],
   "source": [
    "# Lets pick all keys which are even\n",
    "\n",
    "d = { 1:1, 2:2, 3:3, 4:4, 5:5, 6:6,7:7, 8:8, 9:9, 10:10 }\n",
    "evenDict = { k:v for k,v in d.items() if not k%2 }\n",
    "evenDict"
   ]
  },
  {
   "cell_type": "markdown",
   "metadata": {},
   "source": [
    "## Set Comprehension\n",
    "-  Similar to List comprehension but to create a set\n",
    "-  Used to create new set which is a transform of an existing list"
   ]
  },
  {
   "cell_type": "code",
   "execution_count": 40,
   "metadata": {},
   "outputs": [],
   "source": [
    "dupList = [ 1, 2, 3, 4, 5, 4, 5]  # list with duplicate items"
   ]
  },
  {
   "cell_type": "code",
   "execution_count": 41,
   "metadata": {},
   "outputs": [],
   "source": [
    "s = { item for item in dupList }   # set with unique items"
   ]
  },
  {
   "cell_type": "code",
   "execution_count": 42,
   "metadata": {
    "scrolled": false
   },
   "outputs": [
    {
     "data": {
      "text/plain": [
       "{1, 2, 3, 4, 5}"
      ]
     },
     "execution_count": 42,
     "metadata": {},
     "output_type": "execute_result"
    }
   ],
   "source": [
    "s"
   ]
  },
  {
   "cell_type": "code",
   "execution_count": 43,
   "metadata": {},
   "outputs": [
    {
     "data": {
      "text/plain": [
       "[1, 2, 3, 4, 5]"
      ]
     },
     "execution_count": 43,
     "metadata": {},
     "output_type": "execute_result"
    }
   ],
   "source": [
    "uniqList = list(s)\n",
    "uniqList"
   ]
  },
  {
   "cell_type": "code",
   "execution_count": 44,
   "metadata": {},
   "outputs": [
    {
     "data": {
      "text/plain": [
       "[1, 2, 3, 4, 5]"
      ]
     },
     "execution_count": 44,
     "metadata": {},
     "output_type": "execute_result"
    }
   ],
   "source": [
    "dupList = [ 1, 2, 3, 4, 5, 4, 5]  # list with duplicate items\n",
    "uniqList = list(set(dupList))\n",
    "uniqList"
   ]
  },
  {
   "cell_type": "markdown",
   "metadata": {},
   "source": [
    "## Creating a Set of Odd Numbers"
   ]
  },
  {
   "cell_type": "code",
   "execution_count": 45,
   "metadata": {},
   "outputs": [
    {
     "data": {
      "text/plain": [
       "{1, 3, 5, 7, 9}"
      ]
     },
     "execution_count": 45,
     "metadata": {},
     "output_type": "execute_result"
    }
   ],
   "source": [
    "oddSet = { item for item in range(1,10) if item % 2 }\n",
    "oddSet"
   ]
  },
  {
   "cell_type": "markdown",
   "metadata": {},
   "source": [
    "## Generators\n",
    "- Iterators\n",
    "- Generator expression\n",
    "- Generator function\n",
    "  - uses yield\n",
    "- [Iterators - Iterables - Generator](https://nvie.com/posts/iterators-vs-generators/)"
   ]
  },
  {
   "cell_type": "markdown",
   "metadata": {},
   "source": [
    "Always click on links - they are helpful tips"
   ]
  },
  {
   "cell_type": "markdown",
   "metadata": {},
   "source": [
    "### Generator Expression"
   ]
  },
  {
   "cell_type": "code",
   "execution_count": 46,
   "metadata": {},
   "outputs": [
    {
     "name": "stdout",
     "output_type": "stream",
     "text": [
      "1\n",
      "2\n",
      "3\n",
      "4\n",
      "5\n"
     ]
    }
   ],
   "source": [
    "gen = ( x for x in [1,2,3,4,5])           # looks like list comprehension but usaes {}\n",
    "\n",
    "for i in gen:\n",
    "    print(i)"
   ]
  },
  {
   "cell_type": "code",
   "execution_count": 48,
   "metadata": {},
   "outputs": [
    {
     "ename": "SyntaxError",
     "evalue": "invalid syntax (<ipython-input-48-ff60371fe170>, line 3)",
     "output_type": "error",
     "traceback": [
      "\u001b[0;36m  File \u001b[0;32m\"<ipython-input-48-ff60371fe170>\"\u001b[0;36m, line \u001b[0;32m3\u001b[0m\n\u001b[0;31m    for i in ( x for x in [1,2,3,4,5])\u001b[0m\n\u001b[0m                                      ^\u001b[0m\n\u001b[0;31mSyntaxError\u001b[0m\u001b[0;31m:\u001b[0m invalid syntax\n"
     ]
    }
   ],
   "source": [
    "gen = ( x for x in [1,2,3,4,5])           # looks like list comprehension but usaes {}\n",
    "\n",
    "for i in ( x for x in [1,2,3,4,5])\n",
    "    print(i)"
   ]
  },
  {
   "cell_type": "markdown",
   "metadata": {},
   "source": [
    "### Generator Function has Yield"
   ]
  },
  {
   "cell_type": "code",
   "execution_count": 49,
   "metadata": {},
   "outputs": [],
   "source": [
    "def gen():\n",
    "    x = [1,2,3,4,5]\n",
    "    for i in x:\n",
    "        print(\"Before yield: \", i)\n",
    "        yield i\n",
    "        print(\"After yield: \", i)"
   ]
  },
  {
   "cell_type": "code",
   "execution_count": 51,
   "metadata": {},
   "outputs": [
    {
     "name": "stdout",
     "output_type": "stream",
     "text": [
      "Before yield:  1\n",
      "hello: 1\n",
      "After yield:  1\n",
      "Before yield:  2\n",
      "hello: 2\n",
      "After yield:  2\n",
      "Before yield:  3\n",
      "hello: 3\n",
      "After yield:  3\n",
      "Before yield:  4\n",
      "hello: 4\n",
      "After yield:  4\n",
      "Before yield:  5\n",
      "hello: 5\n",
      "After yield:  5\n"
     ]
    }
   ],
   "source": [
    "for i in gen():\n",
    "    print(\"hello:\", i)"
   ]
  },
  {
   "cell_type": "code",
   "execution_count": null,
   "metadata": {
    "collapsed": true
   },
   "outputs": [],
   "source": [
    "def infinteNextNum():\n",
    "    nextNum = 0\n",
    "    while True:\n",
    "        yield nextNum\n",
    "        nextNum += 1"
   ]
  },
  {
   "cell_type": "code",
   "execution_count": null,
   "metadata": {},
   "outputs": [],
   "source": [
    "next(iterator)"
   ]
  },
  {
   "cell_type": "code",
   "execution_count": 52,
   "metadata": {},
   "outputs": [],
   "source": [
    "def foo():\n",
    "    yield 1\n",
    "    yield 2\n",
    "    yield 3\n"
   ]
  },
  {
   "cell_type": "code",
   "execution_count": 57,
   "metadata": {},
   "outputs": [],
   "source": [
    "i = iter(foo())"
   ]
  },
  {
   "cell_type": "code",
   "execution_count": 60,
   "metadata": {},
   "outputs": [
    {
     "data": {
      "text/plain": [
       "2"
      ]
     },
     "execution_count": 60,
     "metadata": {},
     "output_type": "execute_result"
    }
   ],
   "source": [
    "next (i)"
   ]
  },
  {
   "cell_type": "markdown",
   "metadata": {},
   "source": [
    "## One Liners\n",
    "-  Handy tools in Python\n",
    "### Simple HTTP Server\n",
    "-  python -m http.server\n",
    "### doctest\n",
    "-  python -m doctest myprogram.py\n",
    "### json.tool\n",
    "-  cat foo.json | python -m json.tool"
   ]
  },
  {
   "cell_type": "markdown",
   "metadata": {},
   "source": [
    "## DocTest\n",
    "- Simple way to test python modules\n",
    "- Include "
   ]
  },
  {
   "cell_type": "code",
   "execution_count": null,
   "metadata": {},
   "outputs": [],
   "source": [
    "import doctest\n",
    "\n",
    "def Square(x):\n",
    "    '''\n",
    "    >>> Square(3)\n",
    "    9\n",
    "    >>> Square(-3)\n",
    "    9\n",
    "    '''\n",
    "    return x+x\n",
    "\n",
    "doctest.testmod()"
   ]
  },
  {
   "cell_type": "markdown",
   "metadata": {},
   "source": [
    "# Logging\n",
    "- Formatter\n",
    "- Handler\n",
    "  - Stream Handler\n",
    "  - File Handler\n",
    "- Logger"
   ]
  },
  {
   "cell_type": "markdown",
   "metadata": {},
   "source": [
    "### Import Logging and Sys"
   ]
  },
  {
   "cell_type": "code",
   "execution_count": 61,
   "metadata": {},
   "outputs": [],
   "source": [
    "import logging\n",
    "import sys"
   ]
  },
  {
   "cell_type": "markdown",
   "metadata": {},
   "source": [
    "### Set Logger Name and  Logging Level"
   ]
  },
  {
   "cell_type": "code",
   "execution_count": null,
   "metadata": {
    "collapsed": true
   },
   "outputs": [],
   "source": [
    "logger = logging.getLogger(name=__name__)\n",
    "logger.setLevel(logging.DEBUG)        # logger logs debug and above"
   ]
  },
  {
   "cell_type": "markdown",
   "metadata": {},
   "source": [
    "### Define Formatter"
   ]
  },
  {
   "cell_type": "code",
   "execution_count": null,
   "metadata": {
    "collapsed": true
   },
   "outputs": [],
   "source": [
    "formatter = logging.Formatter ( \n",
    "    '[%(asctime)s:%(module)s:%(lineno)s:%(levelname)s] %(message)s' \n",
    ")"
   ]
  },
  {
   "cell_type": "markdown",
   "metadata": {},
   "source": [
    "### Define Stream Handler, Log Level and Formatter"
   ]
  },
  {
   "cell_type": "code",
   "execution_count": null,
   "metadata": {
    "collapsed": true
   },
   "outputs": [],
   "source": [
    "streamhandler = logging.StreamHandler(sys.stdout)\n",
    "streamhandler.setLevel(logging.INFO)   # stdout logs warning and above\n",
    "streamhandler.setFormatter(formatter)"
   ]
  },
  {
   "cell_type": "markdown",
   "metadata": {},
   "source": [
    "### Define File Handler, Log Level and Formatter"
   ]
  },
  {
   "cell_type": "code",
   "execution_count": null,
   "metadata": {
    "collapsed": true
   },
   "outputs": [],
   "source": [
    "filehandler = logging.FileHandler('myAppLogs.log', mode='a')\n",
    "filehandler.setLevel(logging.DEBUG)      # file logs debug and above\n",
    "filehandler.setFormatter(formatter)"
   ]
  },
  {
   "cell_type": "markdown",
   "metadata": {},
   "source": [
    "### Add Handlers to Logger"
   ]
  },
  {
   "cell_type": "code",
   "execution_count": null,
   "metadata": {
    "collapsed": true
   },
   "outputs": [],
   "source": [
    "logger.addHandler(streamhandler)\n",
    "logger.addHandler(filehandler)"
   ]
  },
  {
   "cell_type": "markdown",
   "metadata": {},
   "source": [
    "### Apps calling the logger"
   ]
  },
  {
   "cell_type": "code",
   "execution_count": null,
   "metadata": {},
   "outputs": [],
   "source": [
    "logger.debug(\"Debug Log\")        # detailed logs useful for programmer and debugging\n",
    "logger.info(\"info Log\")          # informational logs\n",
    "logger.warning(\"warning Log\")    # warning on system state,  network slow, low disk or battery\n",
    "logger.error(\"Error Log\")        # apps runs with loss of functions\n",
    "logger.critical(\"Critical Log\")  # Cant run application - app crash \n"
   ]
  },
  {
   "cell_type": "code",
   "execution_count": null,
   "metadata": {},
   "outputs": [],
   "source": [
    "!cat myAppLogs.log"
   ]
  },
  {
   "cell_type": "markdown",
   "metadata": {},
   "source": [
    "### Recap\n",
    "- Files are used for data persistence\n",
    "- Files can be text or binary\n",
    "- Files need to be opened before reading or writing\n",
    "- Files need to be closed\n",
    "- Optional\n",
    "  - List, dict, set comprehension\n",
    "  - zip\n",
    "  - with statement\n",
    "  - Generators\n",
    "  - one liners\n",
    "  - doctest\n",
    "  - loggging"
   ]
  },
  {
   "cell_type": "markdown",
   "metadata": {},
   "source": [
    "\n",
    "## Read\n",
    "[Real Python pathlib](https://realpython.com/python-pathlib/)"
   ]
  },
  {
   "cell_type": "markdown",
   "metadata": {},
   "source": [
    "## Assignments\n",
    "- Reading and Writing Text Files Writing Assignment 1\n",
    "- Reading and Writing Text Files Assignment 2\n",
    "   "
   ]
  },
  {
   "cell_type": "markdown",
   "metadata": {
    "collapsed": true
   },
   "source": [
    "## Quiz\n",
    "- Quiz 9"
   ]
  }
 ],
 "metadata": {
  "kernelspec": {
   "display_name": "Python 3",
   "language": "python",
   "name": "python3"
  },
  "language_info": {
   "codemirror_mode": {
    "name": "ipython",
    "version": 3
   },
   "file_extension": ".py",
   "mimetype": "text/x-python",
   "name": "python",
   "nbconvert_exporter": "python",
   "pygments_lexer": "ipython3",
   "version": "3.7.0"
  }
 },
 "nbformat": 4,
 "nbformat_minor": 2
}
